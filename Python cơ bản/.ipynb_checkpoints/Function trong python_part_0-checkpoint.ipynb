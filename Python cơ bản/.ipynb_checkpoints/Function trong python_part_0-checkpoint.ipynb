{
 "cells": [
  {
   "cell_type": "markdown",
   "id": "34adab57",
   "metadata": {},
   "source": [
    "# để khai báo 1 hàm t sd từ khóa def\n",
    "# def <function_name> (parameter_1 ,.....) : "
   ]
  },
  {
   "cell_type": "markdown",
   "id": "374054e5",
   "metadata": {},
   "source": [
    "vd"
   ]
  },
  {
   "cell_type": "code",
   "execution_count": 1,
   "id": "a6c2cff1",
   "metadata": {},
   "outputs": [
    {
     "name": "stdout",
     "output_type": "stream",
     "text": [
      "None\n"
     ]
    }
   ],
   "source": [
    "# vd1\n",
    "def tri():\n",
    "    pass # lệnh giữ chỗ (lệnh để sẵn đó)\n",
    "print(tri())"
   ]
  },
  {
   "cell_type": "markdown",
   "id": "9d4b38b6",
   "metadata": {},
   "source": [
    "# HOẶC"
   ]
  },
  {
   "cell_type": "code",
   "execution_count": 11,
   "id": "351b8ea1",
   "metadata": {},
   "outputs": [],
   "source": [
    "#  vd2\n",
    "def tri1():\n",
    "    print(\"ly huynh huu tri \")"
   ]
  },
  {
   "cell_type": "code",
   "execution_count": 12,
   "id": "12a16c66",
   "metadata": {},
   "outputs": [
    {
     "name": "stdout",
     "output_type": "stream",
     "text": [
      "ly huynh huu tri \n"
     ]
    }
   ],
   "source": [
    "tri1()"
   ]
  },
  {
   "cell_type": "code",
   "execution_count": 13,
   "id": "7e639b35",
   "metadata": {},
   "outputs": [
    {
     "name": "stdout",
     "output_type": "stream",
     "text": [
      "ly huynh huu tri \n"
     ]
    }
   ],
   "source": [
    "tri1()"
   ]
  },
  {
   "cell_type": "code",
   "execution_count": 14,
   "id": "b8b98f26",
   "metadata": {},
   "outputs": [
    {
     "name": "stdout",
     "output_type": "stream",
     "text": [
      "ly huynh huu tri\n",
      "huynh thi my lin\n",
      "huynh thi my lin\n",
      "ly huynh huu tri\n",
      "huynh thi my lin\n",
      "huynh thi my lin\n",
      "ly huynh huu tri\n",
      "huynh thi my lin\n",
      "huynh thi my lin\n",
      "ly huynh huu tri\n",
      "huynh thi my lin\n",
      "huynh thi my lin\n"
     ]
    }
   ],
   "source": [
    "#  vd3\n",
    "def tri2():\n",
    "    print(\"ly huynh huu tri\")\n",
    "    print('huynh thi my lin')\n",
    "    print('huynh thi my lin')\n",
    "tri2()\n",
    "tri2()\n",
    "tri2()\n",
    "tri2()"
   ]
  },
  {
   "cell_type": "markdown",
   "id": "fbfa05ec",
   "metadata": {},
   "source": [
    "# hàm với parameter"
   ]
  },
  {
   "cell_type": "code",
   "execution_count": 15,
   "id": "007389ea",
   "metadata": {},
   "outputs": [
    {
     "name": "stdout",
     "output_type": "stream",
     "text": [
      "yêu nguyễn  thị mỹ linh \n"
     ]
    }
   ],
   "source": [
    "def tri3(text):\n",
    "    print(text)\n",
    "tri3(\"yêu nguyễn  thị mỹ linh \")"
   ]
  },
  {
   "cell_type": "markdown",
   "id": "5262cd17",
   "metadata": {},
   "source": [
    "# parameter là 1 biến"
   ]
  },
  {
   "cell_type": "markdown",
   "id": "794cf7f7",
   "metadata": {},
   "source": [
    "# hàm với Agrs"
   ]
  },
  {
   "cell_type": "code",
   "execution_count": 16,
   "id": "c88acbb3",
   "metadata": {},
   "outputs": [
    {
     "name": "stdout",
     "output_type": "stream",
     "text": [
      "lý huỳnh hữu trí   nguyễn thị mỹ lin \n"
     ]
    }
   ],
   "source": [
    "# vd1 \n",
    "def tri4(text, age):\n",
    "    print(text , age)\n",
    "tri4(\"lý huỳnh hữu trí \" , \" nguyễn thị mỹ lin \")"
   ]
  },
  {
   "cell_type": "code",
   "execution_count": 19,
   "id": "9b95ba7b",
   "metadata": {},
   "outputs": [
    {
     "name": "stdout",
     "output_type": "stream",
     "text": [
      "lý huỳnh hữu trí  21\n"
     ]
    }
   ],
   "source": [
    "# vd2\n",
    "def tri5(text, age = 21):\n",
    "    print(text , age)\n",
    "tri5(\"lý huỳnh hữu trí \")"
   ]
  },
  {
   "cell_type": "code",
   "execution_count": 20,
   "id": "37adcdf1",
   "metadata": {},
   "outputs": [
    {
     "name": "stdout",
     "output_type": "stream",
     "text": [
      "lý huỳnh hữu trí  21\n"
     ]
    }
   ],
   "source": [
    "#  vd3 \n",
    "age = 21\n",
    "def tri5(text, ages = age):\n",
    "    print(text , age)\n",
    "tri5(\"lý huỳnh hữu trí \")"
   ]
  },
  {
   "cell_type": "code",
   "execution_count": 21,
   "id": "66be1cf2",
   "metadata": {},
   "outputs": [
    {
     "name": "stdout",
     "output_type": "stream",
     "text": [
      "['f']\n",
      "['f', 'f']\n",
      "['f', 'f', 'f']\n",
      "['f', 'f', 'f', 'f']\n"
     ]
    }
   ],
   "source": [
    "# vd4\n",
    "def f(tri=[]):\n",
    "    tri.append(\"f\")\n",
    "    print(tri)\n",
    "f()\n",
    "f()\n",
    "f()\n",
    "f()"
   ]
  }
 ],
 "metadata": {
  "kernelspec": {
   "display_name": "Python 3 (ipykernel)",
   "language": "python",
   "name": "python3"
  },
  "language_info": {
   "codemirror_mode": {
    "name": "ipython",
    "version": 3
   },
   "file_extension": ".py",
   "mimetype": "text/x-python",
   "name": "python",
   "nbconvert_exporter": "python",
   "pygments_lexer": "ipython3",
   "version": "3.9.7"
  }
 },
 "nbformat": 4,
 "nbformat_minor": 5
}
