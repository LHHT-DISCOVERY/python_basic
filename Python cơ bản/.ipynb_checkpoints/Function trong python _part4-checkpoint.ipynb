{
 "cells": [
  {
   "cell_type": "markdown",
   "id": "85ef514e",
   "metadata": {},
   "source": [
    "# locals và globals"
   ]
  },
  {
   "cell_type": "markdown",
   "id": "c37faa50",
   "metadata": {},
   "source": [
    "# tìm hiểu các vidu sau : "
   ]
  },
  {
   "cell_type": "code",
   "execution_count": 3,
   "id": "0c78200c",
   "metadata": {},
   "outputs": [
    {
     "name": "stdout",
     "output_type": "stream",
     "text": [
      " we are   huu tri\n"
     ]
    }
   ],
   "source": [
    "huutr = \" huu tri\"\n",
    "def say():\n",
    "    print(\" we are \" , huutr)\n",
    "say()"
   ]
  },
  {
   "cell_type": "code",
   "execution_count": 4,
   "id": "23496432",
   "metadata": {},
   "outputs": [
    {
     "name": "stdout",
     "output_type": "stream",
     "text": [
      " we are   huu tri\n"
     ]
    }
   ],
   "source": [
    "\n",
    "def say():\n",
    "    huuutr = \" huu tri\"\n",
    "    print(\" we are \" , huutr)\n",
    "say()"
   ]
  },
  {
   "cell_type": "code",
   "execution_count": 6,
   "id": "424f6f8d",
   "metadata": {},
   "outputs": [
    {
     "name": "stdout",
     "output_type": "stream",
     "text": [
      " we are   huu tri\n"
     ]
    },
    {
     "ename": "NameError",
     "evalue": "name 'huuuutr' is not defined",
     "output_type": "error",
     "traceback": [
      "\u001b[1;31m---------------------------------------------------------------------------\u001b[0m",
      "\u001b[1;31mNameError\u001b[0m                                 Traceback (most recent call last)",
      "\u001b[1;32m~\\AppData\\Local\\Temp/ipykernel_6156/2916415724.py\u001b[0m in \u001b[0;36m<module>\u001b[1;34m\u001b[0m\n\u001b[0;32m      3\u001b[0m     \u001b[0mprint\u001b[0m\u001b[1;33m(\u001b[0m\u001b[1;34m\" we are \"\u001b[0m \u001b[1;33m,\u001b[0m \u001b[0mhuutr\u001b[0m\u001b[1;33m)\u001b[0m\u001b[1;33m\u001b[0m\u001b[1;33m\u001b[0m\u001b[0m\n\u001b[0;32m      4\u001b[0m \u001b[0msay\u001b[0m\u001b[1;33m(\u001b[0m\u001b[1;33m)\u001b[0m\u001b[1;33m\u001b[0m\u001b[1;33m\u001b[0m\u001b[0m\n\u001b[1;32m----> 5\u001b[1;33m \u001b[0mprint\u001b[0m\u001b[1;33m(\u001b[0m\u001b[0mhuuuutr\u001b[0m\u001b[1;33m)\u001b[0m \u001b[1;31m# ko đc do biến nằm trong hàm\u001b[0m\u001b[1;33m\u001b[0m\u001b[1;33m\u001b[0m\u001b[0m\n\u001b[0m",
      "\u001b[1;31mNameError\u001b[0m: name 'huuuutr' is not defined"
     ]
    }
   ],
   "source": [
    "\n",
    "def say():\n",
    "    huuuutr = \" huu tri\"\n",
    "    print(\" we are \" , huutr)\n",
    "say()\n",
    "print(huuuutr) # ko đc do biến nằm trong hàm , nên nó ko thể defind"
   ]
  },
  {
   "cell_type": "code",
   "execution_count": 7,
   "id": "e884301c",
   "metadata": {},
   "outputs": [
    {
     "name": "stdout",
     "output_type": "stream",
     "text": [
      "Changed successfully!\n",
      "Changed successfully!\n",
      "Changed successfully!\n",
      "Changed successfully!\n",
      "**********\n",
      "69\n",
      "How Kteam\n",
      "[1, 2, 3]\n",
      "('E', 'd', 'u', 'c', 'a', 't', 'i', 'o', 'n')\n",
      "\n"
     ]
    }
   ],
   "source": [
    "#locals\n",
    "num = 69\n",
    "st = 'How Kteam'\n",
    "lst = [1, 2, 3]\n",
    "tup = tuple('Education')\n",
    "\n",
    "def change(parameter):\n",
    "    parameter = 'New value'\n",
    "    print('Changed successfully!')\n",
    "\n",
    "change(num)\n",
    "change(st)\n",
    "change(lst)\n",
    "change(tup)\n",
    "print('*' * 10)\n",
    "print('{}\\n{}\\n{}\\n{}\\n'.format(num, st, lst, tup))"
   ]
  },
  {
   "cell_type": "code",
   "execution_count": 9,
   "id": "7513a371",
   "metadata": {},
   "outputs": [
    {
     "name": "stdout",
     "output_type": "stream",
     "text": [
      "1\n",
      "x in local 5\n",
      "1\n"
     ]
    }
   ],
   "source": [
    "def make_global():\n",
    "    global x\n",
    "    x = 1\n",
    "\n",
    "def local():\n",
    "    x = 5\n",
    "    print('x in local', x)\n",
    "\n",
    "\n",
    "make_global()\n",
    "print(x)\n",
    "local()\n",
    "print(x)"
   ]
  },
  {
   "cell_type": "code",
   "execution_count": null,
   "id": "939f83b1",
   "metadata": {},
   "outputs": [],
   "source": [
    "# lưu ý hạn chế việc sd hàm globals vì nó khiến chương trình chúng ta dễ bị loạn "
   ]
  }
 ],
 "metadata": {
  "kernelspec": {
   "display_name": "Python 3 (ipykernel)",
   "language": "python",
   "name": "python3"
  },
  "language_info": {
   "codemirror_mode": {
    "name": "ipython",
    "version": 3
   },
   "file_extension": ".py",
   "mimetype": "text/x-python",
   "name": "python",
   "nbconvert_exporter": "python",
   "pygments_lexer": "ipython3",
   "version": "3.9.7"
  }
 },
 "nbformat": 4,
 "nbformat_minor": 5
}
