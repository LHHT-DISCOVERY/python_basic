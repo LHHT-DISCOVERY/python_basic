{
 "cells": [
  {
   "cell_type": "markdown",
   "id": "2fd895be",
   "metadata": {},
   "source": [
    "# những hàm hỗ trợ trong python"
   ]
  },
  {
   "cell_type": "markdown",
   "id": "cfd255d7",
   "metadata": {},
   "source": [
    "# hàm Map\n",
    "cú pháp : map(func , iterable)"
   ]
  },
  {
   "cell_type": "code",
   "execution_count": 2,
   "id": "802ef648",
   "metadata": {},
   "outputs": [
    {
     "name": "stdout",
     "output_type": "stream",
     "text": [
      "[2, 3, 4, 5]\n"
     ]
    }
   ],
   "source": [
    "#vd\n",
    "def tang(x):\n",
    "    return x+1 # tăng các phần tử ở X lên 1 đơn vị\n",
    "lsst = [1,2,3,4] // gán lsst bằng 1 list\n",
    "goi_ham = list(map(tang , lsst)) \n",
    "print(goi_ham)"
   ]
  },
  {
   "cell_type": "code",
   "execution_count": 7,
   "id": "42818e47",
   "metadata": {},
   "outputs": [
    {
     "name": "stdout",
     "output_type": "stream",
     "text": [
      "[3, 4, 5]\n"
     ]
    }
   ],
   "source": [
    "# vd với lambda\n",
    "lssst = [ 2,3,4]\n",
    "doi_ham2 = list(map(lambda x:x+1 , lssst))\n",
    "print(doi_ham2)"
   ]
  },
  {
   "cell_type": "code",
   "execution_count": 11,
   "id": "528bf609",
   "metadata": {},
   "outputs": [
    {
     "name": "stdout",
     "output_type": "stream",
     "text": [
      "[6, 8, 10, 12]\n"
     ]
    }
   ],
   "source": [
    "#vd \n",
    "func = lambda x,y: x+y\n",
    "lst_1 = [1,2,3,4]\n",
    "lst_2 = [5,6,7,8]\n",
    "kq = map(func ,lst_1,lst_2) # cộng từng phần tử của 2 list đưa vào\n",
    "print(list(kq))"
   ]
  },
  {
   "cell_type": "markdown",
   "id": "84e42f2d",
   "metadata": {},
   "source": [
    "# hàm FILTER\n",
    "cú pháp : filter(function or none , iterable)"
   ]
  },
  {
   "cell_type": "code",
   "execution_count": 17,
   "id": "fad3fe62",
   "metadata": {},
   "outputs": [
    {
     "name": "stdout",
     "output_type": "stream",
     "text": [
      "[3, 5, 6, 4]\n"
     ]
    }
   ],
   "source": [
    "# vd xuất ra các giá trị lớn hơn 0 bằng hàm filter\n",
    "funct = lambda x : x> 0\n",
    "lsst = [-1,3,5,6,-23,-4,4]\n",
    "kq2 = list(filter(funct , lsst))\n",
    "print(kq2)"
   ]
  },
  {
   "cell_type": "code",
   "execution_count": 29,
   "id": "17e404a9",
   "metadata": {},
   "outputs": [
    {
     "name": "stdout",
     "output_type": "stream",
     "text": [
      "[-1, 3, 5, 6, -23, -4, 4]\n"
     ]
    }
   ],
   "source": [
    "# vd xuất ra các giá trị lớn hơn 0 bằng hàm filter\n",
    "funct12 = lambda x : x> 0\n",
    "lssst = [-1,3,5,6,0,0,0,0,0,0,0,0,0,0,0,0,0,0,0,0,0,0,0,0,0,-23,-4,4]\n",
    "kq212 = list(filter(None, lssst))\n",
    "print(kq212)"
   ]
  },
  {
   "cell_type": "code",
   "execution_count": 25,
   "id": "06fb854c",
   "metadata": {},
   "outputs": [
    {
     "name": "stdout",
     "output_type": "stream",
     "text": [
      "[3, 5, 4]\n"
     ]
    }
   ],
   "source": [
    "# vd xuất ra các giá trị lớn hơn 0 bằng cách khác\n",
    "funct1 = lambda x : x> 0\n",
    "lsst1 = [-1,3,5,-6,-23,-4,4]\n",
    "kq3 = ([x for x in lsst1 if x > 0])\n",
    "print(kq3)"
   ]
  },
  {
   "cell_type": "code",
   "execution_count": 16,
   "id": "d3b2200a",
   "metadata": {},
   "outputs": [
    {
     "name": "stdout",
     "output_type": "stream",
     "text": [
      "[False, True, False, True]\n"
     ]
    }
   ],
   "source": [
    "vd ngoài lề vời hàm map\n",
    "func = lambda x: x>0\n",
    "lst_2 = [-5,6,-7,8]\n",
    "kq = map(func ,lst_2) \n",
    "print(list(kq))"
   ]
  },
  {
   "cell_type": "markdown",
   "id": "0f024e6f",
   "metadata": {},
   "source": [
    "# hàm REDUCE\n",
    "bất cứ hàm nào có kiểu bolearn kiểu FALSE thì ko đc use"
   ]
  },
  {
   "cell_type": "code",
   "execution_count": 43,
   "id": "222e1937",
   "metadata": {},
   "outputs": [
    {
     "name": "stdout",
     "output_type": "stream",
     "text": [
      "15\n"
     ]
    }
   ],
   "source": [
    "from functools import reduce \n",
    "ly = lambda x,y : x+y # ((((1+2)+3)+4)+5)\n",
    "lst4 = [1,2,3,4,5]\n",
    "ket_qua0 = reduce(ly,lst4)  # ((((1+2)+3)+4)+5)\n",
    "print(ket_qua0)"
   ]
  },
  {
   "cell_type": "code",
   "execution_count": 42,
   "id": "4064d0a0",
   "metadata": {},
   "outputs": [
    {
     "name": "stdout",
     "output_type": "stream",
     "text": [
      "120\n"
     ]
    }
   ],
   "source": [
    "from functools import reduce \n",
    "ly = lambda x,y : x*y\n",
    "lst4 = [1,2,3,4,5] \n",
    "ket_qua = reduce(ly , lst4)  # ((((1*2)*3)*4)*5)\n",
    "print(ket_qua) \n"
   ]
  },
  {
   "cell_type": "code",
   "execution_count": 44,
   "id": "a9a0e521",
   "metadata": {},
   "outputs": [
    {
     "name": "stdout",
     "output_type": "stream",
     "text": [
      "25\n",
      "1200\n"
     ]
    }
   ],
   "source": [
    "from functools import reduce \n",
    "ly_add = lambda x,y : x+y # ((((1+2)+3)+4)+5)\n",
    "ly = lambda x,y : x*y # ((((1*2)*3)*4)*5)\n",
    "lst4 = [1,2,3,4,5] \n",
    "ket_qua1 = reduce(ly_add , lst4 , 10)\n",
    "print(ket_qua1)\n",
    "ket_qua2 = reduce(ly, lst4 , 10)\n",
    "print(ket_qua2)"
   ]
  }
 ],
 "metadata": {
  "kernelspec": {
   "display_name": "Python 3 (ipykernel)",
   "language": "python",
   "name": "python3"
  },
  "language_info": {
   "codemirror_mode": {
    "name": "ipython",
    "version": 3
   },
   "file_extension": ".py",
   "mimetype": "text/x-python",
   "name": "python",
   "nbconvert_exporter": "python",
   "pygments_lexer": "ipython3",
   "version": "3.9.7"
  }
 },
 "nbformat": 4,
 "nbformat_minor": 5
}
