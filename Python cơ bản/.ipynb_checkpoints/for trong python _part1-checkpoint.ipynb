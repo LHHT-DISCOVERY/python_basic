{
 "cells": [
  {
   "cell_type": "markdown",
   "id": "0da48984",
   "metadata": {},
   "source": [
    "# vd 1"
   ]
  },
  {
   "cell_type": "code",
   "execution_count": 9,
   "id": "4f2e3404",
   "metadata": {},
   "outputs": [
    {
     "name": "stdout",
     "output_type": "stream",
     "text": [
      "0\n",
      "1\n",
      "2\n"
     ]
    }
   ],
   "source": [
    "length = 3 \n",
    "iter_=(x for x in range(length)) # tạo danh sách từ 0 đến 3 : 0 1 2 \n",
    "c = 0 \n",
    "while c < length:\n",
    "    print(next(iter_))\n",
    "    c+=1\n"
   ]
  },
  {
   "cell_type": "markdown",
   "id": "6d1fbce1",
   "metadata": {},
   "source": [
    "# hoặc có thể code nếu vòng lặp while luông đúng \n",
    "# bắt lỗi và break khỏi vòng lặp"
   ]
  },
  {
   "cell_type": "code",
   "execution_count": 17,
   "id": "b3da83de",
   "metadata": {},
   "outputs": [
    {
     "name": "stdout",
     "output_type": "stream",
     "text": [
      "0\n",
      "1\n",
      "2\n"
     ]
    }
   ],
   "source": [
    "length = 3 \n",
    "iter_=(x for x in range(length)) # tạo danh sách từ 0 đến 3 : 0 1 2 \n",
    "c = 0 \n",
    "while 1:\n",
    "#     print(next(iter_))\n",
    "#     c+=1 \n",
    "    try:\n",
    "        print(next(iter_))\n",
    "    except StopIteration:\n",
    "        break\n",
    "        "
   ]
  },
  {
   "cell_type": "markdown",
   "id": "aa1b616b",
   "metadata": {},
   "source": [
    "# cấu trúc của vòng lặp for và cách hoạt động"
   ]
  },
  {
   "cell_type": "code",
   "execution_count": 24,
   "id": "b46db450",
   "metadata": {},
   "outputs": [
    {
     "name": "stdout",
     "output_type": "stream",
     "text": [
      "-> 0\n",
      "-> 1\n",
      "-> 2\n"
     ]
    }
   ],
   "source": [
    "iter_ = (x for x in range(3)) # 0 , 1 ,2 \n",
    "for value in iter_:\n",
    "    print(\"->\" , value )"
   ]
  },
  {
   "cell_type": "markdown",
   "id": "ae91f4e6",
   "metadata": {},
   "source": [
    "# vd "
   ]
  },
  {
   "cell_type": "code",
   "execution_count": 28,
   "id": "9da572b3",
   "metadata": {},
   "outputs": [
    {
     "name": "stdout",
     "output_type": "stream",
     "text": [
      "('name', ' huutri')\n",
      "('age', 21)\n"
     ]
    }
   ],
   "source": [
    "ht = {\"name\" : \" huutri\" , \"age\" : 21}\n",
    "list_value = list(ht.items())\n",
    "print(list_value[0])\n",
    "print(list_value[1])"
   ]
  },
  {
   "cell_type": "code",
   "execution_count": 38,
   "id": "b3e1d805",
   "metadata": {},
   "outputs": [
    {
     "name": "stdout",
     "output_type": "stream",
     "text": [
      "name ->   huutri\n",
      "age ->  21\n"
     ]
    }
   ],
   "source": [
    "ht = {\"name\" : \" huutri\" , \"age\" : 21}\n",
    "for value , key in ht.items():\n",
    "    print(value , \"-> \" , key)"
   ]
  },
  {
   "cell_type": "markdown",
   "id": "0ca71c08",
   "metadata": {},
   "source": [
    "# vd 2 "
   ]
  },
  {
   "cell_type": "code",
   "execution_count": 42,
   "id": "c22ad1ac",
   "metadata": {},
   "outputs": [
    {
     "name": "stdout",
     "output_type": "stream",
     "text": [
      "h\n",
      "u\n",
      "u\n",
      "t\n",
      "r\n",
      "i\n"
     ]
    }
   ],
   "source": [
    "ht1 = \"huu tri\"\n",
    "for ch in ht1: # ch đại diện cho mỗi kí tự\n",
    "    if ch == \" \":\n",
    "        continue \n",
    "# nếu đến kí tự \" \" , thì thoát khỏi vòng lặp , thực hiện lặp kí tự tiếp theo , nó ko thực hiện câu lệnh dưới vì nó là lệnh esle\n",
    "    else:\n",
    "        print(ch)\n",
    "    "
   ]
  },
  {
   "cell_type": "markdown",
   "id": "edb66ca4",
   "metadata": {},
   "source": [
    "# cấu trúc vòng lặp for else"
   ]
  },
  {
   "cell_type": "code",
   "execution_count": 50,
   "id": "a9358292",
   "metadata": {},
   "outputs": [
    {
     "name": "stdout",
     "output_type": "stream",
     "text": [
      "1\n",
      "done!\n",
      "3\n",
      "done!\n",
      "4\n",
      "5\n",
      "done!\n",
      "6\n",
      "7\n",
      "done!\n",
      "8\n",
      "9\n",
      "done!\n",
      "10\n"
     ]
    }
   ],
   "source": [
    "for k in (1,3,4,5,6,7,8,9,10):\n",
    "    print(k)\n",
    "    if k % 2 == 0 :\n",
    "        continue\n",
    "else : # nếu hết lặp thì qua else\n",
    "    print(\"done!\")"
   ]
  },
  {
   "cell_type": "markdown",
   "id": "1ecb26b1",
   "metadata": {},
   "source": [
    "# bài học củng cố"
   ]
  },
  {
   "cell_type": "code",
   "execution_count": 52,
   "id": "37505b4a",
   "metadata": {},
   "outputs": [
    {
     "name": "stdout",
     "output_type": "stream",
     "text": [
      "27\n"
     ]
    }
   ],
   "source": [
    "# tính tổng của set = {5,8,1,9,4}\n",
    "set = {5,8,1,9,4}\n",
    "sum = 0 \n",
    "for value in set :\n",
    "    sum += value\n",
    "print(sum)"
   ]
  },
  {
   "cell_type": "code",
   "execution_count": null,
   "id": "b064d8dc",
   "metadata": {},
   "outputs": [],
   "source": []
  }
 ],
 "metadata": {
  "kernelspec": {
   "display_name": "Python 3 (ipykernel)",
   "language": "python",
   "name": "python3"
  },
  "language_info": {
   "codemirror_mode": {
    "name": "ipython",
    "version": 3
   },
   "file_extension": ".py",
   "mimetype": "text/x-python",
   "name": "python",
   "nbconvert_exporter": "python",
   "pygments_lexer": "ipython3",
   "version": "3.9.7"
  }
 },
 "nbformat": 4,
 "nbformat_minor": 5
}
