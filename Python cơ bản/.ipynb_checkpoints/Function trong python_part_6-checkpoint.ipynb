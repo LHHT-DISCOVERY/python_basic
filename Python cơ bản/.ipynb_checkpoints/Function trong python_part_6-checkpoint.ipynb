{
 "cells": [
  {
   "cell_type": "code",
   "execution_count": 2,
   "id": "280146c9",
   "metadata": {},
   "outputs": [
    {
     "name": "stdout",
     "output_type": "stream",
     "text": [
      "1\n",
      "kteam\n",
      "2\n"
     ]
    }
   ],
   "source": [
    "huutri_lst = [1 , \"kteam\" ,2 ]\n",
    "for value in huutri_lst:\n",
    "    print(value)"
   ]
  },
  {
   "cell_type": "code",
   "execution_count": 6,
   "id": "cd9b54f4",
   "metadata": {},
   "outputs": [
    {
     "name": "stdout",
     "output_type": "stream",
     "text": [
      "0\n",
      "1\n",
      "2\n",
      "3\n"
     ]
    }
   ],
   "source": [
    "huutr = (value for value in range(4))\n",
    "for value in huutr :\n",
    "    print(value)"
   ]
  },
  {
   "cell_type": "code",
   "execution_count": 16,
   "id": "2f7c1447",
   "metadata": {},
   "outputs": [
    {
     "name": "stdout",
     "output_type": "stream",
     "text": [
      "[3, 54, 'huu ', 'sfjb', 65]\n",
      "3\n",
      "54\n",
      "huu \n",
      "sfjb\n",
      "65\n"
     ]
    }
   ],
   "source": [
    "tr = [3,54, \"huu \" , \"sfjb\" , 65]\n",
    "print(tr)\n",
    "for valu in tr:\n",
    "    print(valu)"
   ]
  },
  {
   "cell_type": "markdown",
   "id": "3eff8e72",
   "metadata": {},
   "source": [
    "# lệnh yield\n",
    "lệnh này gần giống vs lệnh return "
   ]
  },
  {
   "cell_type": "code",
   "execution_count": 53,
   "id": "aeb64a85",
   "metadata": {},
   "outputs": [
    {
     "name": "stdout",
     "output_type": "stream",
     "text": [
      "25\n",
      "9\n",
      "4088484\n"
     ]
    }
   ],
   "source": [
    "#vd vs lệnh return :\n",
    "def tri21(lst):\n",
    "    sq_lst = []\n",
    "    for num in lst:\n",
    "        sq_lst.append(num**2)\n",
    "    return sq_lst\n",
    "tri_test = tri21([ 5,3,2022])\n",
    "for value1 in tri_test :\n",
    "    print(value1)"
   ]
  },
  {
   "cell_type": "code",
   "execution_count": 25,
   "id": "7068f84f",
   "metadata": {},
   "outputs": [
    {
     "name": "stdout",
     "output_type": "stream",
     "text": [
      "4\n",
      "16\n",
      "36\n"
     ]
    }
   ],
   "source": [
    "def tr12(lst):\n",
    "    for num in lst :\n",
    "        yield num**2\n",
    "tri_test1 = tr12([2,4,6])\n",
    "for value2 in tri_test1:\n",
    "    print(value2)"
   ]
  },
  {
   "cell_type": "code",
   "execution_count": 60,
   "id": "ce35d6ec",
   "metadata": {},
   "outputs": [
    {
     "name": "stdout",
     "output_type": "stream",
     "text": [
      "8\n",
      "64\n",
      "216\n"
     ]
    }
   ],
   "source": [
    "def tri12(lst2):\n",
    "    tr = []\n",
    "    for num in lst2:\n",
    "        tr.append(num **3)\n",
    "    return tr\n",
    "tri_thuchanh = tri12([2,4,6])\n",
    "for value3 in tri_thuchanh :\n",
    "    print(value3)"
   ]
  },
  {
   "cell_type": "code",
   "execution_count": null,
   "id": "554c4438",
   "metadata": {},
   "outputs": [],
   "source": []
  }
 ],
 "metadata": {
  "kernelspec": {
   "display_name": "Python 3 (ipykernel)",
   "language": "python",
   "name": "python3"
  },
  "language_info": {
   "codemirror_mode": {
    "name": "ipython",
    "version": 3
   },
   "file_extension": ".py",
   "mimetype": "text/x-python",
   "name": "python",
   "nbconvert_exporter": "python",
   "pygments_lexer": "ipython3",
   "version": "3.9.7"
  }
 },
 "nbformat": 4,
 "nbformat_minor": 5
}
