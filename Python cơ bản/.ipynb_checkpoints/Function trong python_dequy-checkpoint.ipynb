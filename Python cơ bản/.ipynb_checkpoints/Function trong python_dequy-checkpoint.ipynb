{
 "cells": [
  {
   "cell_type": "code",
   "execution_count": 5,
   "id": "123b7d1f",
   "metadata": {},
   "outputs": [
    {
     "name": "stdout",
     "output_type": "stream",
     "text": [
      "10\n",
      "12\n"
     ]
    }
   ],
   "source": [
    "def cal_sum(lst):\n",
    "    if not lst: # tương đương với if len(lst) == 0\n",
    "        return 0\n",
    "    else:\n",
    "        return lst[0]+cal_sum(lst[1:]) # cộng lại với giá trị bắt đầu từ 1 \n",
    "print(cal_sum([1,2,3,4]))\n",
    "print(cal_sum([3,4,5]))"
   ]
  },
  {
   "cell_type": "code",
   "execution_count": 17,
   "id": "c94a9d59",
   "metadata": {},
   "outputs": [
    {
     "name": "stdout",
     "output_type": "stream",
     "text": [
      "8\n"
     ]
    }
   ],
   "source": [
    "def call_sum(lit):\n",
    "    return 0 if not lit else lit[0] + call_sum(lit[1:])\n",
    "print(call_sum([1,4,3]))"
   ]
  },
  {
   "cell_type": "code",
   "execution_count": 38,
   "id": "22b058b8",
   "metadata": {},
   "outputs": [
    {
     "name": "stdout",
     "output_type": "stream",
     "text": [
      "15\n"
     ]
    }
   ],
   "source": [
    "def ca_sum(lyt):\n",
    "    if not lyt : return 0\n",
    "#    return call_cal_sum(lyt)\n",
    "def call_cal_sum(lyt):\n",
    "    return lyt[0] + cal_sum(lyt[1:])\n",
    "print(cal_sum([1,2,3,4,5]))"
   ]
  }
 ],
 "metadata": {
  "kernelspec": {
   "display_name": "Python 3 (ipykernel)",
   "language": "python",
   "name": "python3"
  },
  "language_info": {
   "codemirror_mode": {
    "name": "ipython",
    "version": 3
   },
   "file_extension": ".py",
   "mimetype": "text/x-python",
   "name": "python",
   "nbconvert_exporter": "python",
   "pygments_lexer": "ipython3",
   "version": "3.9.7"
  }
 },
 "nbformat": 4,
 "nbformat_minor": 5
}
