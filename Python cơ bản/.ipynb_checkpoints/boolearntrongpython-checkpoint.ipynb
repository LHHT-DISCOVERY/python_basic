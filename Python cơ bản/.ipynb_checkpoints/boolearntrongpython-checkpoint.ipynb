{
 "cells": [
  {
   "cell_type": "code",
   "execution_count": 1,
   "id": "70719ec6",
   "metadata": {},
   "outputs": [],
   "source": [
    "# giới thiệu về boolearn\n",
    "# boolearn trong các toán tử so sánh \n",
    "# NOT , AND , OR\n",
    "# CÁC GIÁ TRỊ CX LÀ CÁC BOOLEARN\n",
    "# SYNTAXNIC SUGAR CHO VIỆC SO SÁNH PYTHON"
   ]
  },
  {
   "cell_type": "markdown",
   "id": "3113abd4",
   "metadata": {},
   "source": [
    "# vd boolearn trong toán tử so sánh"
   ]
  },
  {
   "cell_type": "code",
   "execution_count": 2,
   "id": "574b90f6",
   "metadata": {},
   "outputs": [
    {
     "data": {
      "text/plain": [
       "True"
      ]
     },
     "execution_count": 2,
     "metadata": {},
     "output_type": "execute_result"
    }
   ],
   "source": [
    "3 > 1"
   ]
  },
  {
   "cell_type": "code",
   "execution_count": 3,
   "id": "855d7d5a",
   "metadata": {},
   "outputs": [
    {
     "data": {
      "text/plain": [
       "False"
      ]
     },
     "execution_count": 3,
     "metadata": {},
     "output_type": "execute_result"
    }
   ],
   "source": [
    "3 < 1 "
   ]
  },
  {
   "cell_type": "code",
   "execution_count": 5,
   "id": "7ced24ef",
   "metadata": {},
   "outputs": [
    {
     "data": {
      "text/plain": [
       "False"
      ]
     },
     "execution_count": 5,
     "metadata": {},
     "output_type": "execute_result"
    }
   ],
   "source": [
    "5 < 2 and 3 > 2"
   ]
  },
  {
   "cell_type": "code",
   "execution_count": 6,
   "id": "c9859901",
   "metadata": {},
   "outputs": [
    {
     "data": {
      "text/plain": [
       "True"
      ]
     },
     "execution_count": 6,
     "metadata": {},
     "output_type": "execute_result"
    }
   ],
   "source": [
    "5 < 2 or 3  > 2"
   ]
  },
  {
   "cell_type": "code",
   "execution_count": 10,
   "id": "950bb23c",
   "metadata": {},
   "outputs": [
    {
     "data": {
      "text/plain": [
       "True"
      ]
     },
     "execution_count": 10,
     "metadata": {},
     "output_type": "execute_result"
    }
   ],
   "source": [
    "5 + 2 == 7"
   ]
  },
  {
   "cell_type": "code",
   "execution_count": 1,
   "id": "8324a524",
   "metadata": {},
   "outputs": [
    {
     "data": {
      "text/plain": [
       "False"
      ]
     },
     "execution_count": 1,
     "metadata": {},
     "output_type": "execute_result"
    }
   ],
   "source": [
    "5 + 2 == 9"
   ]
  },
  {
   "cell_type": "markdown",
   "id": "20869acf",
   "metadata": {},
   "source": [
    "# lưu ý : trong toán học : > , < , = , .... \n",
    "\n",
    "# trong python  :    > ,=  < , == , >=  (lớn hơn hoặc bằng) , <=  , !=  (khác)      "
   ]
  },
  {
   "cell_type": "code",
   "execution_count": 4,
   "id": "20922a46",
   "metadata": {},
   "outputs": [
    {
     "data": {
      "text/plain": [
       "True"
      ]
     },
     "execution_count": 4,
     "metadata": {},
     "output_type": "execute_result"
    }
   ],
   "source": [
    "3 * 0 ! == 4 # 3 nhân 0 khac 4 tra ve true"
   ]
  },
  {
   "cell_type": "code",
   "execution_count": 13,
   "id": "c5b990a3",
   "metadata": {},
   "outputs": [
    {
     "data": {
      "text/plain": [
       "False"
      ]
     },
     "execution_count": 13,
     "metadata": {},
     "output_type": "execute_result"
    }
   ],
   "source": [
    "\"a\" > 'ab'"
   ]
  },
  {
   "cell_type": "code",
   "execution_count": 17,
   "id": "ecc67b2b",
   "metadata": {},
   "outputs": [
    {
     "data": {
      "text/plain": [
       "97"
      ]
     },
     "execution_count": 17,
     "metadata": {},
     "output_type": "execute_result"
    }
   ],
   "source": [
    "a1 = ord('a')\n",
    "a1"
   ]
  },
  {
   "cell_type": "code",
   "execution_count": 21,
   "id": "30485cc0",
   "metadata": {},
   "outputs": [
    {
     "data": {
      "text/plain": [
       "98"
      ]
     },
     "execution_count": 21,
     "metadata": {},
     "output_type": "execute_result"
    }
   ],
   "source": [
    "a2 = ord('b')\n",
    "a2"
   ]
  },
  {
   "cell_type": "markdown",
   "id": "cefbef19",
   "metadata": {},
   "source": [
    "=> vì khi so sánh a vs ab nó so sánh a trc , xong ss b , bên kia thiếu b , nên trả về kq false"
   ]
  },
  {
   "cell_type": "markdown",
   "id": "c3a3729f",
   "metadata": {},
   "source": [
    "# toán tử IS"
   ]
  },
  {
   "cell_type": "markdown",
   "id": "c7d9f518",
   "metadata": {},
   "source": [
    "# vd\n",
    "# chiều cao của trí bằng sang , chứ ko thể ns trí là sang đc \n",
    "# vd code"
   ]
  },
  {
   "cell_type": "code",
   "execution_count": 30,
   "id": "4d2b42ab",
   "metadata": {},
   "outputs": [],
   "source": [
    "lis=[1,2,3]\n",
    "lis_ = [1 ,2 ,3]"
   ]
  },
  {
   "cell_type": "code",
   "execution_count": 29,
   "id": "b5f57ec1",
   "metadata": {},
   "outputs": [
    {
     "data": {
      "text/plain": [
       "True"
      ]
     },
     "execution_count": 29,
     "metadata": {},
     "output_type": "execute_result"
    }
   ],
   "source": [
    "lit == lis_"
   ]
  },
  {
   "cell_type": "markdown",
   "id": "915c2ef2",
   "metadata": {},
   "source": [
    "=> điều này có nghĩa là 2 mảng bằng nhau nhưng  =>"
   ]
  },
  {
   "cell_type": "code",
   "execution_count": 28,
   "id": "b83b057a",
   "metadata": {},
   "outputs": [
    {
     "data": {
      "text/plain": [
       "False"
      ]
     },
     "execution_count": 28,
     "metadata": {},
     "output_type": "execute_result"
    }
   ],
   "source": [
    "lis is lis_"
   ]
  },
  {
   "cell_type": "markdown",
   "id": "f1879efd",
   "metadata": {},
   "source": [
    "=> nhưng lis ko là lis_  được"
   ]
  },
  {
   "cell_type": "markdown",
   "id": "2a46ee86",
   "metadata": {},
   "source": [
    "# vd khác"
   ]
  },
  {
   "cell_type": "code",
   "execution_count": 34,
   "id": "7bfd3b69",
   "metadata": {},
   "outputs": [],
   "source": [
    "lis=[1,2,3]\n",
    "lis_ = [1 ,2 ,3]\n",
    "_lis = lis "
   ]
  },
  {
   "cell_type": "code",
   "execution_count": 35,
   "id": "d64a7af1",
   "metadata": {},
   "outputs": [
    {
     "data": {
      "text/plain": [
       "True"
      ]
     },
     "execution_count": 35,
     "metadata": {},
     "output_type": "execute_result"
    }
   ],
   "source": [
    "_lis is lis"
   ]
  },
  {
   "cell_type": "markdown",
   "id": "9375cf69",
   "metadata": {},
   "source": [
    "=> nếu gán _lis bằng lis ban đầu thì nó đúng"
   ]
  },
  {
   "cell_type": "code",
   "execution_count": 36,
   "id": "f7fd5fed",
   "metadata": {},
   "outputs": [
    {
     "data": {
      "text/plain": [
       "False"
      ]
     },
     "execution_count": 36,
     "metadata": {},
     "output_type": "execute_result"
    }
   ],
   "source": [
    "_lis is lis_"
   ]
  },
  {
   "cell_type": "markdown",
   "id": "65306cf0",
   "metadata": {},
   "source": [
    "=> nhưng lis_ thứ 2 nó ko là lis ban đầu trừ khi gán lis_ thử 2 là lis ban đầu "
   ]
  },
  {
   "cell_type": "markdown",
   "id": "12d7a714",
   "metadata": {},
   "source": [
    "# ==> dùng toán tử is thì nó sẽ dùng ID để so sánh\n",
    "\n",
    "# lưu ý  : các số từ -5 đến 256 hoặc là một chuỗi có các kí tự dưới 20 thì các biến có cùng giá trị nó sẽ có cùng giá trị trả về từ hàm ID (nghĩa là trả về giá trị  cùng ID)\n"
   ]
  },
  {
   "cell_type": "code",
   "execution_count": 42,
   "id": "a2d0263b",
   "metadata": {},
   "outputs": [
    {
     "data": {
      "text/plain": [
       "True"
      ]
     },
     "execution_count": 42,
     "metadata": {},
     "output_type": "execute_result"
    }
   ],
   "source": [
    "# vd -5 -> 256\n",
    "a22 = 256\n",
    "b22 = 256\n",
    "a22 is b22"
   ]
  },
  {
   "cell_type": "code",
   "execution_count": 43,
   "id": "4f650aab",
   "metadata": {},
   "outputs": [
    {
     "data": {
      "text/plain": [
       "False"
      ]
     },
     "execution_count": 43,
     "metadata": {},
     "output_type": "execute_result"
    }
   ],
   "source": [
    "# vd : trường hợp ngược lại > 256\n",
    "a22 = 2555\n",
    "b22 = 2555\n",
    "a22 is b22"
   ]
  },
  {
   "cell_type": "markdown",
   "id": "452b972b",
   "metadata": {},
   "source": [
    "# NOT ,AND , OR"
   ]
  },
  {
   "cell_type": "markdown",
   "id": "5442af9d",
   "metadata": {},
   "source": [
    "# true true => and \n",
    "# 1 thèn đúng là or\n",
    "# not \n",
    "# một vài vd : "
   ]
  },
  {
   "cell_type": "code",
   "execution_count": 44,
   "id": "00e8eb8e",
   "metadata": {},
   "outputs": [
    {
     "data": {
      "text/plain": [
       "True"
      ]
     },
     "execution_count": 44,
     "metadata": {},
     "output_type": "execute_result"
    }
   ],
   "source": [
    "True or True"
   ]
  },
  {
   "cell_type": "code",
   "execution_count": 45,
   "id": "32a0ff80",
   "metadata": {},
   "outputs": [
    {
     "data": {
      "text/plain": [
       "True"
      ]
     },
     "execution_count": 45,
     "metadata": {},
     "output_type": "execute_result"
    }
   ],
   "source": [
    "True or False"
   ]
  },
  {
   "cell_type": "code",
   "execution_count": 49,
   "id": "17870494",
   "metadata": {},
   "outputs": [
    {
     "data": {
      "text/plain": [
       "False"
      ]
     },
     "execution_count": 49,
     "metadata": {},
     "output_type": "execute_result"
    }
   ],
   "source": [
    "not True"
   ]
  },
  {
   "cell_type": "code",
   "execution_count": 51,
   "id": "09e7d7fb",
   "metadata": {},
   "outputs": [
    {
     "data": {
      "text/plain": [
       "True"
      ]
     },
     "execution_count": 51,
     "metadata": {},
     "output_type": "execute_result"
    }
   ],
   "source": [
    "not False "
   ]
  },
  {
   "cell_type": "markdown",
   "id": "02f01a05",
   "metadata": {},
   "source": [
    "# true là 1 , False là 0\n",
    "# vd :"
   ]
  },
  {
   "cell_type": "code",
   "execution_count": 53,
   "id": "b55d9cad",
   "metadata": {},
   "outputs": [
    {
     "data": {
      "text/plain": [
       "2"
      ]
     },
     "execution_count": 53,
     "metadata": {},
     "output_type": "execute_result"
    }
   ],
   "source": [
    "True + 1"
   ]
  },
  {
   "cell_type": "code",
   "execution_count": 54,
   "id": "9b610786",
   "metadata": {},
   "outputs": [
    {
     "data": {
      "text/plain": [
       "1"
      ]
     },
     "execution_count": 54,
     "metadata": {},
     "output_type": "execute_result"
    }
   ],
   "source": [
    "False + 1"
   ]
  },
  {
   "cell_type": "markdown",
   "id": "19f8019e",
   "metadata": {},
   "source": [
    "# SYNTAXNIC SUGAR CHO VIỆC SO SÁNH PYTHON"
   ]
  },
  {
   "cell_type": "code",
   "execution_count": 55,
   "id": "1d2cf364",
   "metadata": {},
   "outputs": [],
   "source": [
    "n = 5"
   ]
  },
  {
   "cell_type": "code",
   "execution_count": 56,
   "id": "fcf18412",
   "metadata": {},
   "outputs": [
    {
     "data": {
      "text/plain": [
       "True"
      ]
     },
     "execution_count": 56,
     "metadata": {},
     "output_type": "execute_result"
    }
   ],
   "source": [
    "n > 1 and n <6 # kiểm tra xem n có nằm trong khoảng (1;6) hay ko "
   ]
  },
  {
   "cell_type": "code",
   "execution_count": 57,
   "id": "593e5ab3",
   "metadata": {},
   "outputs": [
    {
     "data": {
      "text/plain": [
       "False"
      ]
     },
     "execution_count": 57,
     "metadata": {},
     "output_type": "execute_result"
    }
   ],
   "source": [
    "n > 1 and n < 4 # kiểm tra xem n có nằm trong khoảng (1;4) hay ko "
   ]
  },
  {
   "cell_type": "markdown",
   "id": "9473e5b0",
   "metadata": {},
   "source": [
    "# hoặc cx có thể code"
   ]
  },
  {
   "cell_type": "code",
   "execution_count": 59,
   "id": "13768e2d",
   "metadata": {},
   "outputs": [
    {
     "data": {
      "text/plain": [
       "True"
      ]
     },
     "execution_count": 59,
     "metadata": {},
     "output_type": "execute_result"
    }
   ],
   "source": [
    "n > 3 > 2 > 1 # nghĩa là n có lớn hơn 3 và có hơn hơn 2 và  > 1 ko . nếu sai 1 số là Flase"
   ]
  },
  {
   "cell_type": "markdown",
   "id": "e77fa87e",
   "metadata": {},
   "source": [
    "trường hợp để kiểm tra 1 số có bằng hay ko thì :"
   ]
  },
  {
   "cell_type": "code",
   "execution_count": 60,
   "id": "a3512665",
   "metadata": {},
   "outputs": [],
   "source": [
    "k = 4 "
   ]
  },
  {
   "cell_type": "code",
   "execution_count": 61,
   "id": "ea7ba705",
   "metadata": {},
   "outputs": [
    {
     "data": {
      "text/plain": [
       "False"
      ]
     },
     "execution_count": 61,
     "metadata": {},
     "output_type": "execute_result"
    }
   ],
   "source": [
    "k == 3 or k == 5 or k ==7"
   ]
  },
  {
   "cell_type": "code",
   "execution_count": 62,
   "id": "e08bf4aa",
   "metadata": {},
   "outputs": [
    {
     "data": {
      "text/plain": [
       "True"
      ]
     },
     "execution_count": 62,
     "metadata": {},
     "output_type": "execute_result"
    }
   ],
   "source": [
    "k == 3 or k == 5 or k == 4"
   ]
  },
  {
   "cell_type": "markdown",
   "id": "13370ace",
   "metadata": {},
   "source": [
    "hoặc có thể code như sau dùng toán tử in : "
   ]
  },
  {
   "cell_type": "code",
   "execution_count": 63,
   "id": "0615a978",
   "metadata": {},
   "outputs": [
    {
     "data": {
      "text/plain": [
       "False"
      ]
     },
     "execution_count": 63,
     "metadata": {},
     "output_type": "execute_result"
    }
   ],
   "source": [
    "k in (3,5,7)"
   ]
  },
  {
   "cell_type": "code",
   "execution_count": 64,
   "id": "1dc8f9fd",
   "metadata": {},
   "outputs": [
    {
     "data": {
      "text/plain": [
       "True"
      ]
     },
     "execution_count": 64,
     "metadata": {},
     "output_type": "execute_result"
    }
   ],
   "source": [
    "k in (3,5,4)"
   ]
  }
 ],
 "metadata": {
  "kernelspec": {
   "display_name": "Python 3 (ipykernel)",
   "language": "python",
   "name": "python3"
  },
  "language_info": {
   "codemirror_mode": {
    "name": "ipython",
    "version": 3
   },
   "file_extension": ".py",
   "mimetype": "text/x-python",
   "name": "python",
   "nbconvert_exporter": "python",
   "pygments_lexer": "ipython3",
   "version": "3.9.7"
  }
 },
 "nbformat": 4,
 "nbformat_minor": 5
}
