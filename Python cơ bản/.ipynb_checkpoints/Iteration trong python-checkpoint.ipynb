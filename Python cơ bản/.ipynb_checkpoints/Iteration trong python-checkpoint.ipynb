{
 "cells": [
  {
   "cell_type": "markdown",
   "id": "a9d2c273",
   "metadata": {},
   "source": [
    "# thực hiện vòng lặp có điều kiện gì đó để ra 1 ds các phần tử tương ứng với điều kiện đó"
   ]
  },
  {
   "cell_type": "code",
   "execution_count": 28,
   "id": "b5186c30",
   "metadata": {
    "scrolled": true
   },
   "outputs": [
    {
     "data": {
      "text/plain": [
       "[0, 1, 2]"
      ]
     },
     "execution_count": 28,
     "metadata": {},
     "output_type": "execute_result"
    }
   ],
   "source": [
    "iter = [x for x in range(3)] # cú pháp là : [itera]\n",
    "iter"
   ]
  },
  {
   "cell_type": "markdown",
   "id": "aaa68baa",
   "metadata": {},
   "source": [
    " # một số hàm hỗ trợ"
   ]
  },
  {
   "cell_type": "markdown",
   "id": "1d1a723e",
   "metadata": {},
   "source": [
    "# hàm sum\n",
    "# cú pháp sum([iterable , start = 0])"
   ]
  },
  {
   "cell_type": "code",
   "execution_count": 13,
   "id": "43ae6175",
   "metadata": {},
   "outputs": [
    {
     "data": {
      "text/plain": [
       "10"
      ]
     },
     "execution_count": 13,
     "metadata": {},
     "output_type": "execute_result"
    }
   ],
   "source": [
    "sum([1,6,3])"
   ]
  },
  {
   "cell_type": "code",
   "execution_count": 14,
   "id": "78c86a3d",
   "metadata": {},
   "outputs": [
    {
     "data": {
      "text/plain": [
       "20"
      ]
     },
     "execution_count": 14,
     "metadata": {},
     "output_type": "execute_result"
    }
   ],
   "source": [
    "sum([1,6,3],10)"
   ]
  },
  {
   "cell_type": "code",
   "execution_count": 19,
   "id": "f1dcf65c",
   "metadata": {},
   "outputs": [
    {
     "data": {
      "text/plain": [
       "6"
      ]
     },
     "execution_count": 19,
     "metadata": {},
     "output_type": "execute_result"
    }
   ],
   "source": [
    "it = (s for s in range (4))\n",
    "sum(it)\n",
    "# 0 + 1 + 2"
   ]
  },
  {
   "cell_type": "markdown",
   "id": "3f84f466",
   "metadata": {},
   "source": [
    "# hàm tìm giá trị lớn nhất\n",
    "# cú pháp max(itera , *[default = obj , key = func])"
   ]
  },
  {
   "cell_type": "code",
   "execution_count": 1,
   "id": "b74d85fc",
   "metadata": {},
   "outputs": [
    {
     "data": {
      "text/plain": [
       "4"
      ]
     },
     "execution_count": 1,
     "metadata": {},
     "output_type": "execute_result"
    }
   ],
   "source": [
    "max([2,4,1])"
   ]
  },
  {
   "cell_type": "code",
   "execution_count": 22,
   "id": "44a5a43c",
   "metadata": {},
   "outputs": [
    {
     "data": {
      "text/plain": [
       "545"
      ]
     },
     "execution_count": 22,
     "metadata": {},
     "output_type": "execute_result"
    }
   ],
   "source": [
    "max([9,45,43,35,545,356])"
   ]
  },
  {
   "cell_type": "markdown",
   "id": "20b8e6fc",
   "metadata": {},
   "source": [
    "# Lưu ý để sd hợp lý với hàm max "
   ]
  },
  {
   "cell_type": "code",
   "execution_count": 7,
   "id": "b9cfeb54",
   "metadata": {},
   "outputs": [
    {
     "name": "stdout",
     "output_type": "stream",
     "text": [
      "43\n"
     ]
    }
   ],
   "source": [
    "timso = [1 ,23,34,43]\n",
    "q=max(timso)\n",
    "print(q)\n"
   ]
  },
  {
   "cell_type": "markdown",
   "id": "e60ba2b1",
   "metadata": {},
   "source": [
    "# tương tự với MIN"
   ]
  },
  {
   "cell_type": "markdown",
   "id": "01c042e4",
   "metadata": {},
   "source": [
    "# hàm sắp xếp"
   ]
  },
  {
   "cell_type": "code",
   "execution_count": 24,
   "id": "ee4b66b5",
   "metadata": {},
   "outputs": [
    {
     "data": {
      "text/plain": [
       "[1, 2, 3, 4, 5, 22, 65, 223]"
      ]
     },
     "execution_count": 24,
     "metadata": {},
     "output_type": "execute_result"
    }
   ],
   "source": [
    "it = [1,2,3,5,4,65,22,223]\n",
    "sorted(it)  # ss từ nhỏ đến lớn"
   ]
  },
  {
   "cell_type": "code",
   "execution_count": 2,
   "id": "ac28c24d",
   "metadata": {},
   "outputs": [
    {
     "data": {
      "text/plain": [
       "[223, 65, 22, 5, 4, 3, 2, 1]"
      ]
     },
     "execution_count": 2,
     "metadata": {},
     "output_type": "execute_result"
    }
   ],
   "source": [
    "it = [1,2,3,5,4,65,22,223]\n",
    "sorted(it ,reverse = True)  # ss từ lớn đến nhỏ"
   ]
  }
 ],
 "metadata": {
  "kernelspec": {
   "display_name": "Python 3 (ipykernel)",
   "language": "python",
   "name": "python3"
  },
  "language_info": {
   "codemirror_mode": {
    "name": "ipython",
    "version": 3
   },
   "file_extension": ".py",
   "mimetype": "text/x-python",
   "name": "python",
   "nbconvert_exporter": "python",
   "pygments_lexer": "ipython3",
   "version": "3.9.7"
  }
 },
 "nbformat": 4,
 "nbformat_minor": 5
}
