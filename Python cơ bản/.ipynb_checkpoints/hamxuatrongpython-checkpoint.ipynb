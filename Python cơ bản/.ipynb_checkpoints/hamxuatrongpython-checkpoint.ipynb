{
 "cells": [
  {
   "cell_type": "markdown",
   "id": "82bd8179",
   "metadata": {},
   "source": [
    "# tìm hiểu hàm print thông qua các parameter trong python"
   ]
  },
  {
   "cell_type": "markdown",
   "id": "00fa9a52",
   "metadata": {},
   "source": [
    "# cú pháp : print(*object , sep = \"\" , end = \"\\n\" , file = sys.stdout , flush = Flase)"
   ]
  },
  {
   "cell_type": "code",
   "execution_count": 2,
   "id": "3469a904",
   "metadata": {},
   "outputs": [
    {
     "data": {
      "text/plain": [
       "(1, 2, 3, 4)"
      ]
     },
     "execution_count": 2,
     "metadata": {},
     "output_type": "execute_result"
    }
   ],
   "source": [
    "packing = 1,2,3,4 # giống như gọi hàm funtion(1,2,3,4)\n",
    "packing"
   ]
  },
  {
   "cell_type": "code",
   "execution_count": 4,
   "id": "1a6d857b",
   "metadata": {},
   "outputs": [
    {
     "name": "stdout",
     "output_type": "stream",
     "text": [
      "huutri thích kiểu 69\n"
     ]
    }
   ],
   "source": [
    "print(\"huutri thích kiểu \" +  str(69))"
   ]
  },
  {
   "cell_type": "code",
   "execution_count": 6,
   "id": "f4893cb8",
   "metadata": {},
   "outputs": [
    {
     "name": "stdout",
     "output_type": "stream",
     "text": [
      "huutri thích kiểu  69\n"
     ]
    }
   ],
   "source": [
    "print(\"huutri thích kiểu \" , 69)"
   ]
  },
  {
   "cell_type": "markdown",
   "id": "6504e9e4",
   "metadata": {},
   "source": [
    "# sep (separate - chia ra , phân ra )"
   ]
  },
  {
   "cell_type": "code",
   "execution_count": 74,
   "id": "7c1c8901",
   "metadata": {},
   "outputs": [
    {
     "name": "stdout",
     "output_type": "stream",
     "text": [
      "huutri thích kiểu  ---  sáu chín\n"
     ]
    }
   ],
   "source": [
    "print(\"huutri thích kiểu \" , \" sáu chín\" , sep = \" --- \")"
   ]
  },
  {
   "cell_type": "markdown",
   "id": "7486f5be",
   "metadata": {},
   "source": [
    "# end"
   ]
  },
  {
   "cell_type": "code",
   "execution_count": 9,
   "id": "7a66d4c5",
   "metadata": {},
   "outputs": [
    {
     "name": "stdout",
     "output_type": "stream",
     "text": [
      "line 1 "
     ]
    }
   ],
   "source": [
    "print(\"line 1 \" , end = \"\") # nó sẽ ko xuống dòng "
   ]
  },
  {
   "cell_type": "markdown",
   "id": "b293a164",
   "metadata": {},
   "source": [
    "# vd : vọc vạch với print"
   ]
  },
  {
   "cell_type": "markdown",
   "id": "20892eb9",
   "metadata": {},
   "source": [
    "#vd1"
   ]
  },
  {
   "cell_type": "code",
   "execution_count": 10,
   "id": "ca872f1e",
   "metadata": {},
   "outputs": [
    {
     "name": "stdout",
     "output_type": "stream",
     "text": [
      " Hữu Trí ... \n",
      "sex\n",
      " yêu Nguyễn Thị Mỹ Linh\n"
     ]
    }
   ],
   "source": [
    "from time import sleep # nhập thư viện sleep từ thư viện time\n",
    "print (\" Hữu Trí ... \")\n",
    "sleep(1)\n",
    "print(\"sex\")\n",
    "sleep(3) # CÓ TÁC DỤNG ĐỢI TRONG THỜI GIAN BAO LÂU ĐỂ RỒI LÀM VIỆC GÌ ĐÓ\n",
    "print(\" yêu Nguyễn Thị Mỹ Linh\")"
   ]
  },
  {
   "cell_type": "markdown",
   "id": "edb6363d",
   "metadata": {},
   "source": [
    "#vd2"
   ]
  },
  {
   "cell_type": "code",
   "execution_count": 34,
   "id": "3cdbed24",
   "metadata": {},
   "outputs": [
    {
     "name": "stdout",
     "output_type": "stream",
     "text": [
      "dowload : \n",
      "[0, 1, 2, 3, 4, 5, 6, 7, 8, 9, 10]\n"
     ]
    }
   ],
   "source": [
    "from time import sleep # nhập thư viện sleep từ thư viện time\n",
    "itr = [x for x in range(11)]\n",
    "print('dowload : ') \n",
    "sleep(1)\n",
    "print(itr)"
   ]
  },
  {
   "cell_type": "markdown",
   "id": "d74cc8ab",
   "metadata": {},
   "source": [
    "#vd3"
   ]
  },
  {
   "cell_type": "code",
   "execution_count": 76,
   "id": "6a410f19",
   "metadata": {},
   "outputs": [
    {
     "name": "stdout",
     "output_type": "stream",
     "text": [
      " line 1 line 2 \n",
      " hết rồi nha , hiu hiu ^^ \n"
     ]
    }
   ],
   "source": [
    "from time import sleep # nhập thư viện sleep từ thư viện time\n",
    "print (\" line 1\" , \"line 2 \"  , end = \"\\n\") # đang đợi newline , vì sleep 3s , đợi 3s xong xuất toàn bộ\n",
    "sleep(3)\n",
    "print(\" hết rồi nha , hiu hiu ^^ \")"
   ]
  },
  {
   "cell_type": "markdown",
   "id": "5395ad1b",
   "metadata": {},
   "source": [
    "# FILE"
   ]
  },
  {
   "cell_type": "markdown",
   "id": "a5437ecf",
   "metadata": {},
   "source": [
    "# tạo file và ghi vào file"
   ]
  },
  {
   "cell_type": "code",
   "execution_count": 77,
   "id": "391fe5a9",
   "metadata": {},
   "outputs": [],
   "source": [
    "with open ('printtext.txt', \"w\") as f:              # tự tạo ra file lưu vào biến f , \"w\" quay lại bài sử lí file\n",
    "    print( \"print by print function, huu tri yeu mi lin \" ,file = f )          #in vào file, luu ý ko đc sd tiếng viết"
   ]
  },
  {
   "cell_type": "markdown",
   "id": "4c6024c5",
   "metadata": {},
   "source": [
    "# FLUSH"
   ]
  },
  {
   "cell_type": "code",
   "execution_count": 2,
   "id": "afdc6951",
   "metadata": {},
   "outputs": [
    {
     "name": "stdout",
     "output_type": "stream",
     "text": [
      " line 1 line 2 \n",
      " hiu hiu ^^ \n"
     ]
    }
   ],
   "source": [
    "from time import sleep # nhập thư viện sleep từ thư viện time\n",
    "print (\" line 1\" , \"line 2 \"  , end = \"\\n\" ,flush = True) # đang đợi newline , vì sleep 3s , đợi 3s xong xuất toàn bộ\n",
    "# nếu là parameter , flush = true thì sẽ xuất yêu cầu bộ đệm xuất ra những gì nó có trong bộ đệm \n",
    "sleep(3)\n",
    "print(\" hiu hiu ^^ \")"
   ]
  },
  {
   "cell_type": "markdown",
   "id": "d132c23a",
   "metadata": {},
   "source": [
    "#vd"
   ]
  },
  {
   "cell_type": "code",
   "execution_count": 8,
   "id": "c20efef8",
   "metadata": {},
   "outputs": [
    {
     "name": "stdout",
     "output_type": "stream",
     "text": [
      " Hello my Friend !!!  I'm Hữu Trí đẹp trai\n"
     ]
    }
   ],
   "source": [
    "from time import sleep\n",
    "gt = \" Hello my Friend !!! \" \n",
    "name = \" I'm Hữu Trí đẹp trai\"\n",
    "for c in gt + name :\n",
    "    print(c, end = \"\" , flush = True)\n",
    "    sleep(0.12) \n",
    "\n",
    "print()"
   ]
  },
  {
   "cell_type": "code",
   "execution_count": 9,
   "id": "f05eb4f8",
   "metadata": {},
   "outputs": [
    {
     "name": "stdout",
     "output_type": "stream",
     "text": [
      " Lý Huỳnh Hữu Trí yêu Nguyễn Thị Mỹ Linh KO ???\n",
      "LOADING...\n",
      "0 %\n",
      "10 %\n",
      "20 %\n",
      "30 %\n",
      "40 %\n",
      "50 %\n",
      "60 %\n",
      "70 %\n",
      "80 %\n",
      "90 %\n",
      "100 %\n",
      "ĐANG PHÂN TÍCH DỮ LIỆU\n",
      "||||||||||||||||||||||||||||||||||||||||||\n",
      "\n",
      "--- ^^ Hữu Trí MÃI YÊU Mỹ Linh Nha ^^ ---\n"
     ]
    }
   ],
   "source": [
    "from time import sleep\n",
    "ht1 = \" Lý Huỳnh Hữu Trí có yêu Nguyễn Thị Mỹ Linh KO ???\"\n",
    "for c in ht1:\n",
    "    print(c, end=\"\" , flush = True)\n",
    "    sleep(0.12)\n",
    "print()\n",
    "sleep(0.7)\n",
    "print(\"LOADING...\")\n",
    "sleep(0.7)\n",
    "a = 1 ; \n",
    "for a in range(11):\n",
    "    a = a * 10\n",
    "    print(a ,\"%\")\n",
    "    sleep(0.5)\n",
    "sleep(0.7)\n",
    "print(\"ĐANG PHÂN TÍCH DỮ LIỆU\")\n",
    "aa = \"||||||||||||||||||||||||||||||||||||||||||\"\n",
    "for a1 in aa:\n",
    "    print(a1, end=\"\" , flush = True)\n",
    "    sleep(0.08)\n",
    "sleep(0.8)\n",
    "print(\"\\n\")\n",
    "print (\"--- ^^ Hữu Trí MÃI YÊU Mỹ Linh Nha ^^ ---\")"
   ]
  },
  {
   "cell_type": "code",
   "execution_count": null,
   "id": "283b5c2a",
   "metadata": {},
   "outputs": [],
   "source": []
  }
 ],
 "metadata": {
  "kernelspec": {
   "display_name": "Python 3 (ipykernel)",
   "language": "python",
   "name": "python3"
  },
  "language_info": {
   "codemirror_mode": {
    "name": "ipython",
    "version": 3
   },
   "file_extension": ".py",
   "mimetype": "text/x-python",
   "name": "python",
   "nbconvert_exporter": "python",
   "pygments_lexer": "ipython3",
   "version": "3.9.7"
  }
 },
 "nbformat": 4,
 "nbformat_minor": 5
}
