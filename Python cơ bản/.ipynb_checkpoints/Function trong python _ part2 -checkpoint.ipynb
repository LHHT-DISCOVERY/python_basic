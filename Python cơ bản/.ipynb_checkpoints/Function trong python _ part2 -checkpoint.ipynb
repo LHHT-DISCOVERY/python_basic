{
 "cells": [
  {
   "cell_type": "markdown",
   "id": "c277523b",
   "metadata": {},
   "source": [
    "#  Positional và keyword argument"
   ]
  },
  {
   "cell_type": "markdown",
   "id": "0aca887e",
   "metadata": {},
   "source": [
    "# vd"
   ]
  },
  {
   "cell_type": "code",
   "execution_count": 6,
   "id": "474733e3",
   "metadata": {},
   "outputs": [
    {
     "name": "stdout",
     "output_type": "stream",
     "text": [
      "3 tris \n"
     ]
    }
   ],
   "source": [
    "def tri(a,b):\n",
    "    print(a,b)\n",
    "tri(3, \"tris \")"
   ]
  },
  {
   "cell_type": "code",
   "execution_count": 11,
   "id": "88ae9d77",
   "metadata": {},
   "outputs": [
    {
     "name": "stdout",
     "output_type": "stream",
     "text": [
      "Ly huỳnh huu tri 3\n"
     ]
    }
   ],
   "source": [
    "def tri(a,b):\n",
    "    print(a,b)\n",
    "tri(b=3, a = \"Ly huỳnh huu tri\")"
   ]
  },
  {
   "cell_type": "code",
   "execution_count": 12,
   "id": "d9d40b13",
   "metadata": {},
   "outputs": [],
   "source": [
    "#  2 cách gán trên đều tương tự nhau"
   ]
  },
  {
   "cell_type": "code",
   "execution_count": 20,
   "id": "70f76fc7",
   "metadata": {},
   "outputs": [
    {
     "name": "stdout",
     "output_type": "stream",
     "text": [
      "3 2 Ly huỳnh huu tri code\n"
     ]
    }
   ],
   "source": [
    "def tri(a,b,c,d):\n",
    "    print(a,b,c,d)\n",
    "tri(3,2, d =\"code\",c = \"Ly huỳnh huu tri\")"
   ]
  },
  {
   "cell_type": "code",
   "execution_count": 25,
   "id": "50531e1a",
   "metadata": {},
   "outputs": [
    {
     "name": "stdout",
     "output_type": "stream",
     "text": [
      "[4, 3, 1, -2, -30]\n"
     ]
    }
   ],
   "source": [
    "print(sorted([-2,-30,4,3,1], reverse = True))"
   ]
  },
  {
   "cell_type": "code",
   "execution_count": 26,
   "id": "a51e3e96",
   "metadata": {},
   "outputs": [],
   "source": [
    "# vd"
   ]
  },
  {
   "cell_type": "code",
   "execution_count": 27,
   "id": "1d47277a",
   "metadata": {},
   "outputs": [
    {
     "name": "stdout",
     "output_type": "stream",
     "text": [
      "25\n"
     ]
    }
   ],
   "source": [
    "def Lin(a , b=2 , c=3 , d=4):\n",
    "    f = (a+d) * (c+b)\n",
    "    print(f)\n",
    "Lin(0,d=5)"
   ]
  },
  {
   "cell_type": "code",
   "execution_count": 28,
   "id": "c950deac",
   "metadata": {},
   "outputs": [],
   "source": [
    "# vd2 \n"
   ]
  },
  {
   "cell_type": "code",
   "execution_count": 33,
   "id": "a9c1add2",
   "metadata": {},
   "outputs": [
    {
     "name": "stdout",
     "output_type": "stream",
     "text": [
      "1\n",
      "2\n",
      "3\n"
     ]
    }
   ],
   "source": [
    "def Lin1(pos_or_key_arg , * , key_1 , key_2 ):\n",
    "    print(pos_or_key_arg)\n",
    "    print(key_1)\n",
    "    print(key_2)\n",
    "Lin1(1 , key_1= 2,key_2=3)"
   ]
  },
  {
   "cell_type": "code",
   "execution_count": 34,
   "id": "8fa3ce12",
   "metadata": {},
   "outputs": [],
   "source": [
    "# vd 3"
   ]
  },
  {
   "cell_type": "code",
   "execution_count": 1,
   "id": "3e84eeef",
   "metadata": {},
   "outputs": [],
   "source": [
    "# input(prompt = None ,/)"
   ]
  },
  {
   "cell_type": "code",
   "execution_count": 5,
   "id": "a453d154",
   "metadata": {},
   "outputs": [],
   "source": []
  },
  {
   "cell_type": "code",
   "execution_count": null,
   "id": "b8990041",
   "metadata": {},
   "outputs": [],
   "source": []
  }
 ],
 "metadata": {
  "kernelspec": {
   "display_name": "Python 3 (ipykernel)",
   "language": "python",
   "name": "python3"
  },
  "language_info": {
   "codemirror_mode": {
    "name": "ipython",
    "version": 3
   },
   "file_extension": ".py",
   "mimetype": "text/x-python",
   "name": "python",
   "nbconvert_exporter": "python",
   "pygments_lexer": "ipython3",
   "version": "3.9.7"
  }
 },
 "nbformat": 4,
 "nbformat_minor": 5
}
