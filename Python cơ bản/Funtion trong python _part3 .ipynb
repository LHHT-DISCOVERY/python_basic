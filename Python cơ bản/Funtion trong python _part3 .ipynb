{
 "cells": [
  {
   "cell_type": "markdown",
   "id": "1cf6f752",
   "metadata": {},
   "source": [
    "# PACKING VÀ UNPACKING"
   ]
  },
  {
   "cell_type": "code",
   "execution_count": 3,
   "id": "10987f27",
   "metadata": {},
   "outputs": [
    {
     "name": "stdout",
     "output_type": "stream",
     "text": [
      "123\n",
      "tri 21\n",
      "end mylinh\n"
     ]
    }
   ],
   "source": [
    "def tri(k,t,e,r):\n",
    "    print(k)\n",
    "    print(t,e)\n",
    "    print('end' , r)\n",
    "lst = [\"123\" , \"tri\" , 21 , \"mylinh\"]\n",
    "tri(lst[0] , lst[1] , lst[2] , lst[3]) # gọi hàm"
   ]
  },
  {
   "cell_type": "markdown",
   "id": "7ed92b4e",
   "metadata": {},
   "source": [
    "# tối ưu code"
   ]
  },
  {
   "cell_type": "code",
   "execution_count": 4,
   "id": "842c7cc1",
   "metadata": {},
   "outputs": [
    {
     "name": "stdout",
     "output_type": "stream",
     "text": [
      "123\n",
      "tri 21\n",
      "end mylinh\n"
     ]
    }
   ],
   "source": [
    "tri(*lst) # gọi hàm"
   ]
  },
  {
   "cell_type": "code",
   "execution_count": 5,
   "id": "5390f262",
   "metadata": {},
   "outputs": [
    {
     "name": "stdout",
     "output_type": "stream",
     "text": [
      "123\n",
      "tri 21\n",
      "end my lin \n"
     ]
    }
   ],
   "source": [
    "# hoặc truyền thêm \n",
    "def tri(k,t,e,r):\n",
    "    print(k)\n",
    "    print(t,e)\n",
    "    print('end' , r)\n",
    "lst = [\"123\" , \"tri\" , 21 ]\n",
    "tri(*lst , \"my lin \") # gọi hàm"
   ]
  },
  {
   "cell_type": "code",
   "execution_count": 7,
   "id": "cddc60e1",
   "metadata": {},
   "outputs": [
    {
     "name": "stdout",
     "output_type": "stream",
     "text": [
      "123\n",
      "tri 21\n",
      "end my liin\n"
     ]
    }
   ],
   "source": [
    "# hoặc  \n",
    "def tri(k,t,e, *,r = \"tri\"):\n",
    "    print(k)\n",
    "    print(t,e)\n",
    "    print('end' , r)\n",
    "lst = [\"123\" , \"tri\" , 21 ]\n",
    "tri(*lst ,  r = \"my liin\") # gọi hàm"
   ]
  },
  {
   "cell_type": "code",
   "execution_count": 8,
   "id": "68c01e99",
   "metadata": {},
   "outputs": [
    {
     "name": "stdout",
     "output_type": "stream",
     "text": [
      "(0, 1, 2, 3, 4, 5, 6)\n",
      "<class 'tuple'>\n"
     ]
    }
   ],
   "source": [
    "def ltri(*tr):\n",
    "    print(tr)\n",
    "    print(type(tr))\n",
    "ltri(*(x for x in range(7)))"
   ]
  },
  {
   "cell_type": "code",
   "execution_count": 36,
   "id": "f6cf68d6",
   "metadata": {},
   "outputs": [
    {
     "name": "stdout",
     "output_type": "stream",
     "text": [
      "(0, 1, 2, 3, 4, 5, 6)\n",
      "hí hí hí\n",
      "<class 'tuple'>\n"
     ]
    }
   ],
   "source": [
    "def ltri(*tr , triii = \"hhh\"): # packing\n",
    "    print(tr)\n",
    "    print(triii)\n",
    "    print(type(tr))\n",
    "ltri(*(x for x in range(7)) , triii = \"hí hí hí\")"
   ]
  },
  {
   "cell_type": "code",
   "execution_count": 13,
   "id": "ee486ac9",
   "metadata": {},
   "outputs": [
    {
     "name": "stdout",
     "output_type": "stream",
     "text": [
      "a =>  trí\n",
      "b =>  21\n"
     ]
    }
   ],
   "source": [
    "def name(a,b):\n",
    "    print(\"a => \" ,a  )\n",
    "    print(\"b => \" , b)\n",
    "dic = {\"a\" : \"trí\" , \"b\" : 21} \n",
    "name(**dic)"
   ]
  },
  {
   "cell_type": "code",
   "execution_count": 15,
   "id": "7c9a165f",
   "metadata": {},
   "outputs": [
    {
     "name": "stdout",
     "output_type": "stream",
     "text": [
      "{'name': 'huutri', 'age': 21}\n",
      "<class 'dict'>\n"
     ]
    }
   ],
   "source": [
    "def name(**ttt): # unpacking\n",
    "    print(ttt)\n",
    "    print(type(ttt))\n",
    "name(name = \"huutri\", age = 21 )"
   ]
  },
  {
   "cell_type": "code",
   "execution_count": 17,
   "id": "0ff8430c",
   "metadata": {},
   "outputs": [
    {
     "name": "stdout",
     "output_type": "stream",
     "text": [
      "(0, 1, 2, 3, 4, 5, 6, 7, 8, 9, 10, 11, 12, 13, 14, 15, 16, 17, 18, 19, 20, 21, 22, 23, 24, 25, 26, 27, 28, 29, 30, 31, 32, 33, 34, 35, 36, 37, 38, 39, 40, 41, 42, 43, 44, 45, 46, 47, 48, 49, 50, 51, 52, 53, 54, 55, 56, 57, 58, 59, 60, 61, 62, 63, 64, 65, 66, 67, 68, 69)\n"
     ]
    }
   ],
   "source": [
    "# luyện tập paking\n",
    "def huutri(* tri):\n",
    "    print(tri)\n",
    "huutri(*(x for x in range(70)))"
   ]
  },
  {
   "cell_type": "code",
   "execution_count": 20,
   "id": "fe4f4c03",
   "metadata": {},
   "outputs": [
    {
     "name": "stdout",
     "output_type": "stream",
     "text": [
      "{'name': 'nguyen thi my linh ', 'age': 21}\n"
     ]
    }
   ],
   "source": [
    "# luyện tập unpacking\n",
    "def hhutri(**rr):\n",
    "    print(rr)\n",
    "hhutri(name = \"nguyen thi my linh \" , age = 21)"
   ]
  },
  {
   "cell_type": "code",
   "execution_count": 47,
   "id": "18a81270",
   "metadata": {},
   "outputs": [
    {
     "name": "stdout",
     "output_type": "stream",
     "text": [
      "(0, 1, 2, 3, 4, 5, 6, 7, 8, 9, 10, 11, 12, 13, 14, 15, 16, 17, 18, 19, 20)\n",
      "{}\n",
      "trihoi\n",
      "()\n",
      "{'name': ' huu tri ', 'age': '21'}\n",
      "triiiyeu\n"
     ]
    }
   ],
   "source": [
    "# luyện tập với packing vừa unpacking \n",
    "def trui(* tri ,tro = \"triiiyeu\" ,** triii):\n",
    "    print(tri)\n",
    "    print(triii)\n",
    "    print(tro)\n",
    "trui(*(x for x in range(21)) , tro = \"trihoi\") \n",
    "trui(name = \" huu tri \" , age = \"21\")\n"
   ]
  },
  {
   "cell_type": "code",
   "execution_count": null,
   "id": "303058c2",
   "metadata": {},
   "outputs": [],
   "source": []
  }
 ],
 "metadata": {
  "kernelspec": {
   "display_name": "Python 3 (ipykernel)",
   "language": "python",
   "name": "python3"
  },
  "language_info": {
   "codemirror_mode": {
    "name": "ipython",
    "version": 3
   },
   "file_extension": ".py",
   "mimetype": "text/x-python",
   "name": "python",
   "nbconvert_exporter": "python",
   "pygments_lexer": "ipython3",
   "version": "3.9.7"
  }
 },
 "nbformat": 4,
 "nbformat_minor": 5
}
