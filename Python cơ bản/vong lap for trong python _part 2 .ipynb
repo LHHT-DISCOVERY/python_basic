{
 "cells": [
  {
   "cell_type": "markdown",
   "id": "14775cb2",
   "metadata": {},
   "source": [
    "# range(stop) "
   ]
  },
  {
   "cell_type": "markdown",
   "id": "82e63fb1",
   "metadata": {},
   "source": [
    "#vd"
   ]
  },
  {
   "cell_type": "code",
   "execution_count": 12,
   "id": "76a14da4",
   "metadata": {},
   "outputs": [
    {
     "name": "stdout",
     "output_type": "stream",
     "text": [
      "<class 'range'>\n",
      "[0, 1, 2]\n",
      "2\n"
     ]
    }
   ],
   "source": [
    "k = range(3) # 0,1,2\n",
    "print(type(k))\n",
    "print(list(range(3))) # mảng 3 phần tử ,  từ 0 đến 2 \n",
    "print(k[2])\n",
    "# nếu print(k[3]) => lỗi , do nằm ngoài range"
   ]
  },
  {
   "cell_type": "code",
   "execution_count": 15,
   "id": "57167400",
   "metadata": {},
   "outputs": [
    {
     "name": "stdout",
     "output_type": "stream",
     "text": [
      "[5, 4, 3, 2, 1, 0]\n",
      "[0, 1, 2, 3, 4, 5]\n"
     ]
    }
   ],
   "source": [
    "print(list(range(5,-1,-1))) # range(start , stop = stop - step , step)\n",
    "print(list(range(0,6,1))) #  range(start , stop = stop - step , step)"
   ]
  },
  {
   "cell_type": "markdown",
   "id": "fa99a1de",
   "metadata": {},
   "source": [
    "# toán tử in "
   ]
  },
  {
   "cell_type": "code",
   "execution_count": 17,
   "id": "013ba200",
   "metadata": {},
   "outputs": [
    {
     "name": "stdout",
     "output_type": "stream",
     "text": [
      "True\n"
     ]
    }
   ],
   "source": [
    "k =range(9)\n",
    "print(8 in k)"
   ]
  },
  {
   "cell_type": "markdown",
   "id": "5342a581",
   "metadata": {},
   "source": [
    "# range là một lớp dc thiết kế riêng để lưu trữ dãy số \n",
    "# start , stop , step"
   ]
  },
  {
   "cell_type": "markdown",
   "id": "5d11bd76",
   "metadata": {},
   "source": [
    "# vd vòng lặp for vs range"
   ]
  },
  {
   "cell_type": "code",
   "execution_count": 2,
   "id": "710d30b9",
   "metadata": {},
   "outputs": [
    {
     "name": "stdout",
     "output_type": "stream",
     "text": [
      "2\n",
      "(1, 2, 3, 4, 5, 6)\n",
      "{'lyhuynhhuutri', 'nguyenthimylinh'}\n"
     ]
    }
   ],
   "source": [
    "lst = [ 2, (1,2,3,4,5,6),{\"lyhuynhhuutri\", \"nguyenthimylinh\"}]\n",
    "for i in range(len(lst)): # duyệt các phần tử của list \n",
    "    print(lst[i])"
   ]
  },
  {
   "cell_type": "markdown",
   "id": "d3a3d6a5",
   "metadata": {},
   "source": [
    "# sử dụng range để duyệt mảng vì ( đôi khi cần đổi nội dung của list)\n",
    "# vd "
   ]
  },
  {
   "cell_type": "code",
   "execution_count": 21,
   "id": "c258d64a",
   "metadata": {},
   "outputs": [
    {
     "name": "stdout",
     "output_type": "stream",
     "text": [
      "[2, 3, 4]\n"
     ]
    }
   ],
   "source": [
    "lsst = [1,2,3]\n",
    "for value in range(len(lsst)):\n",
    "    lsst[value] += 1 # cộng 1 cho các value\n",
    "print(lsst)"
   ]
  },
  {
   "cell_type": "code",
   "execution_count": 29,
   "id": "55213892",
   "metadata": {},
   "outputs": [
    {
     "name": "stdout",
     "output_type": "stream",
     "text": [
      "sang\n",
      "tri\n",
      "Lin\n",
      "toan\n"
     ]
    }
   ],
   "source": [
    "student_list= [\"sang\" , \"tri\" , \"Lin\" , \"toan\"]\n",
    "for student in student_list:\n",
    "    print(student)\n"
   ]
  },
  {
   "cell_type": "markdown",
   "id": "28272713",
   "metadata": {},
   "source": [
    "# hàm enumerate"
   ]
  },
  {
   "cell_type": "code",
   "execution_count": 28,
   "id": "93506264",
   "metadata": {},
   "outputs": [
    {
     "name": "stdout",
     "output_type": "stream",
     "text": [
      "1 . Sang\n",
      "2 . Tri\n",
      "3 . Lin\n",
      "4 . Toan\n"
     ]
    }
   ],
   "source": [
    "student_list= [\"Sang\" , \"Tri\" , \"Lin\" , \"Toan\"]\n",
    "for idx , student in enumerate( student_list , 1):\n",
    "    print(idx , \".\" , student)"
   ]
  },
  {
   "cell_type": "code",
   "execution_count": null,
   "id": "362dc09e",
   "metadata": {},
   "outputs": [],
   "source": []
  }
 ],
 "metadata": {
  "kernelspec": {
   "display_name": "Python 3 (ipykernel)",
   "language": "python",
   "name": "python3"
  },
  "language_info": {
   "codemirror_mode": {
    "name": "ipython",
    "version": 3
   },
   "file_extension": ".py",
   "mimetype": "text/x-python",
   "name": "python",
   "nbconvert_exporter": "python",
   "pygments_lexer": "ipython3",
   "version": "3.9.7"
  }
 },
 "nbformat": 4,
 "nbformat_minor": 5
}
