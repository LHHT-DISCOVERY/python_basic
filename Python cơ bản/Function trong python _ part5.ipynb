{
 "cells": [
  {
   "cell_type": "markdown",
   "id": "92377a24",
   "metadata": {},
   "source": [
    "# lenh return "
   ]
  },
  {
   "cell_type": "code",
   "execution_count": 3,
   "id": "48f793fa",
   "metadata": {},
   "outputs": [
    {
     "name": "stdout",
     "output_type": "stream",
     "text": [
      "16\n",
      "22\n"
     ]
    }
   ],
   "source": [
    "def hle(width , height):\n",
    "    per = (width + height) * 2 \n",
    "    return per \n",
    "rec_width = 5\n",
    "rec_height = 3\n",
    "rec_hle  = hle(rec_height, rec_width)\n",
    "print(rec_hle)\n",
    "print ( hle(7,4))"
   ]
  },
  {
   "cell_type": "markdown",
   "id": "5ec38f06",
   "metadata": {},
   "source": [
    "# vd mot ham khac \n",
    "sd return de ngat ham\n"
   ]
  },
  {
   "cell_type": "code",
   "execution_count": 4,
   "id": "fc7cbb5a",
   "metadata": {},
   "outputs": [
    {
     "name": "stdout",
     "output_type": "stream",
     "text": [
      "sd return de ngat ham\n",
      "None\n"
     ]
    }
   ],
   "source": [
    "def hamreturn():\n",
    "    print(\"sd return de ngat ham\")\n",
    "    return \n",
    "    print(\"ham duoi nay di nhien ko ddc goi\")\n",
    "none = hamreturn();\n",
    "print(none)"
   ]
  },
  {
   "cell_type": "code",
   "execution_count": 5,
   "id": "5614dd37",
   "metadata": {},
   "outputs": [],
   "source": [
    "# vd\n"
   ]
  },
  {
   "cell_type": "code",
   "execution_count": 6,
   "id": "41196383",
   "metadata": {},
   "outputs": [
    {
     "name": "stdout",
     "output_type": "stream",
     "text": [
      "huu\n"
     ]
    }
   ],
   "source": [
    "one , twwo , three = \"huu\" , \"tri\" , 21\n",
    "print(one)"
   ]
  },
  {
   "cell_type": "markdown",
   "id": "c0ab3806",
   "metadata": {},
   "source": [
    "# vd mau "
   ]
  },
  {
   "cell_type": "code",
   "execution_count": 11,
   "id": "b050772c",
   "metadata": {},
   "outputs": [
    {
     "name": "stdout",
     "output_type": "stream",
     "text": [
      "27 24\n"
     ]
    }
   ],
   "source": [
    "def tinh(dai , rong):\n",
    "    dt = dai * rong \n",
    "    cv = ( dai + rong)*2\n",
    "    return dt , cv \n",
    "chieu_dai = 3\n",
    "chieu_rong = 9\n",
    "kqdt , kqcv  = tinh(chieu_dai , chieu_rong)\n",
    "print(kqdt , kqcv)"
   ]
  },
  {
   "cell_type": "code",
   "execution_count": null,
   "id": "38d01eb7",
   "metadata": {},
   "outputs": [],
   "source": []
  }
 ],
 "metadata": {
  "kernelspec": {
   "display_name": "Python 3 (ipykernel)",
   "language": "python",
   "name": "python3"
  },
  "language_info": {
   "codemirror_mode": {
    "name": "ipython",
    "version": 3
   },
   "file_extension": ".py",
   "mimetype": "text/x-python",
   "name": "python",
   "nbconvert_exporter": "python",
   "pygments_lexer": "ipython3",
   "version": "3.9.7"
  }
 },
 "nbformat": 4,
 "nbformat_minor": 5
}
