{
 "cells": [
  {
   "cell_type": "markdown",
   "id": "4f0854be",
   "metadata": {},
   "source": [
    "# câu điều kện if"
   ]
  },
  {
   "cell_type": "code",
   "execution_count": 1,
   "id": "69b3c1f5",
   "metadata": {},
   "outputs": [
    {
     "name": "stdout",
     "output_type": "stream",
     "text": [
      "a<1\n"
     ]
    }
   ],
   "source": [
    "a = 0;\n",
    "b = 3 ;\n",
    "if a-1<0:\n",
    "    print(\"a<1\")\n",
    "# nó xuất hiện do a = 0 -1 bằng -1 nên đúng là trừ 1 < 0 nên xuất ra màn hình"
   ]
  },
  {
   "cell_type": "code",
   "execution_count": 2,
   "id": "fe50383a",
   "metadata": {},
   "outputs": [],
   "source": [
    "if b-1<0:\n",
    "    print(\"b<1\")\n",
    "# nó không xuất ra do b =3 -1 = 2 , nó ko nhỏ hơn 0 nên nó ko thực hiện"
   ]
  },
  {
   "cell_type": "markdown",
   "id": "2a194b7c",
   "metadata": {},
   "source": [
    "# vd"
   ]
  },
  {
   "cell_type": "code",
   "execution_count": 7,
   "id": "776cb945",
   "metadata": {},
   "outputs": [
    {
     "name": "stdout",
     "output_type": "stream",
     "text": [
      "a nhỏ hơn 1\n",
      "b > 1\n",
      "huu tri dep trai\n"
     ]
    }
   ],
   "source": [
    "if a-1 < 0:\n",
    "    print(\"a nhỏ hơn 1\")\n",
    "    if b-1 >0:\n",
    "        print(\"b > 1\")\n",
    "print(\"huu tri dep trai\")"
   ]
  },
  {
   "cell_type": "markdown",
   "id": "0602cfd0",
   "metadata": {},
   "source": [
    "# if  - elif\n",
    "\n",
    "# cú pháp : if : nếu thì , else if : nếu ko thì"
   ]
  },
  {
   "cell_type": "markdown",
   "id": "b185275d",
   "metadata": {},
   "source": [
    "if ..... (kiểm tra xem điều kiện có đúng ko)\n",
    "(nếu đúng đk thì sử lí )\n",
    "nếu ko đúng thì chuyển sang câu lệnh elif\n",
    "elif (nếu đúng thì sử lí khổi này ) , nếu ko đúng thì sử lí khối elif tiếp theo\n",
    "    if...:\n",
    "    \n",
    "    elif... \n",
    "        if..\n",
    "    ...\n",
    "else if(nếu đúng thì sử lí khối này , nếu ko đúng thì sử lí khối tiếp theo)\n",
    "..."
   ]
  },
  {
   "cell_type": "markdown",
   "id": "8b3d8dc9",
   "metadata": {},
   "source": [
    "# VD"
   ]
  },
  {
   "cell_type": "code",
   "execution_count": 33,
   "id": "a5054cbf",
   "metadata": {},
   "outputs": [
    {
     "name": "stdout",
     "output_type": "stream",
     "text": [
      " code dễ ồm á mà \n"
     ]
    }
   ],
   "source": [
    "if a-1 > 0 :\n",
    "    print(\"a\")\n",
    "    if b > 0:\n",
    "        print(\"b\")\n",
    "        if a == 0:\n",
    "            print('huu tri ')\n",
    "if b < 0 : \n",
    "    print(\"yêu\")\n",
    "    if b > 0 :\n",
    "        print(\"my linh\")\n",
    "else:\n",
    "    print(\" code dễ ồm á mà \")"
   ]
  },
  {
   "cell_type": "markdown",
   "id": "3b0e3a4e",
   "metadata": {},
   "source": [
    "# cấu trúc if -else"
   ]
  },
  {
   "cell_type": "markdown",
   "id": "b096bf1d",
   "metadata": {},
   "source": [
    "# vd"
   ]
  },
  {
   "cell_type": "code",
   "execution_count": 34,
   "id": "8a7e85b6",
   "metadata": {},
   "outputs": [
    {
     "name": "stdout",
     "output_type": "stream",
     "text": [
      "huu tri dep trai\n"
     ]
    }
   ],
   "source": [
    "if a < 0 :\n",
    "    print(\"huutri\")\n",
    "else: \n",
    "    print(\"huu tri dep trai\")"
   ]
  },
  {
   "cell_type": "code",
   "execution_count": 35,
   "id": "319a4436",
   "metadata": {},
   "outputs": [],
   "source": [
    "# lưu ý : muốn căn lề nên dùng 4 space , thay vì dùng tab"
   ]
  },
  {
   "cell_type": "markdown",
   "id": "4423eba1",
   "metadata": {},
   "source": [
    "có thể code chung trên cùng một dòng \n",
    "\n",
    "# vd : if ... : print(...)"
   ]
  },
  {
   "cell_type": "markdown",
   "id": "75c848cc",
   "metadata": {},
   "source": [
    "#vd cũng cố : nhập từ bàn phím 3 số , và in ra giá trị lớn nhất trong ba số đó "
   ]
  },
  {
   "cell_type": "code",
   "execution_count": 70,
   "id": "718ffc17",
   "metadata": {},
   "outputs": [
    {
     "name": "stdout",
     "output_type": "stream",
     "text": [
      "4\n",
      "2\n",
      "1\n",
      "cas so ban vua nhap la :  4 2 1\n"
     ]
    }
   ],
   "source": [
    "a1 = int(input())\n",
    "a3 = int(input())\n",
    "a2 = int(input())\n",
    "print(\"cas so ban vua nhap la : \" , a1, a13,a2)\n"
   ]
  },
  {
   "cell_type": "code",
   "execution_count": 71,
   "id": "9c7c796b",
   "metadata": {},
   "outputs": [
    {
     "name": "stdout",
     "output_type": "stream",
     "text": [
      "so lon nhat la : 4\n"
     ]
    }
   ],
   "source": [
    "if a1 > a2 :\n",
    "    if a1 > a3 :\n",
    "        print(\"so lon nhat la :\" , a1)\n",
    "    else:\n",
    "        print('so lon nhat la : ' , a3)\n",
    "elif a2 > a3:\n",
    "    if a2 < a1:\n",
    "        print('so lon naht la :' ,a1)\n",
    "    else :\n",
    "        print(\"so lon nhat la :\" , a2)\n",
    "else:\n",
    "    print(\"so lon nhat ls : \" , a3)"
   ]
  },
  {
   "cell_type": "markdown",
   "id": "dd5dbbd0",
   "metadata": {},
   "source": [
    "# hoac cung co the code la "
   ]
  },
  {
   "cell_type": "code",
   "execution_count": 73,
   "id": "35daf901",
   "metadata": {},
   "outputs": [
    {
     "name": "stdout",
     "output_type": "stream",
     "text": [
      "4\n"
     ]
    }
   ],
   "source": [
    "if a1 > a2:\n",
    "    if a1 > a3 :\n",
    "        print(a1)\n",
    "    else :\n",
    "        print (a3)\n",
    "elif a2 > a3 :\n",
    "    print(a2)\n",
    "else :\n",
    "    print(a3)"
   ]
  }
 ],
 "metadata": {
  "kernelspec": {
   "display_name": "Python 3 (ipykernel)",
   "language": "python",
   "name": "python3"
  },
  "language_info": {
   "codemirror_mode": {
    "name": "ipython",
    "version": 3
   },
   "file_extension": ".py",
   "mimetype": "text/x-python",
   "name": "python",
   "nbconvert_exporter": "python",
   "pygments_lexer": "ipython3",
   "version": "3.9.7"
  }
 },
 "nbformat": 4,
 "nbformat_minor": 5
}
