{
 "cells": [
  {
   "cell_type": "markdown",
   "id": "5799d2fe",
   "metadata": {},
   "source": [
    "while (điều kiện) :\n",
    "    .....\n",
    "    "
   ]
  },
  {
   "cell_type": "markdown",
   "id": "9c0257ab",
   "metadata": {},
   "source": [
    "# vd"
   ]
  },
  {
   "cell_type": "code",
   "execution_count": 5,
   "id": "301855a0",
   "metadata": {},
   "outputs": [
    {
     "name": "stdout",
     "output_type": "stream",
     "text": [
      "k= 5\n",
      "k= 4\n",
      "k= 3\n",
      "k= 2\n",
      "k= 1\n"
     ]
    }
   ],
   "source": [
    "k = 5\n",
    "while(k>0):\n",
    "    print(\"k=\", k)\n",
    "    k -= 1;"
   ]
  },
  {
   "cell_type": "markdown",
   "id": "cd53cbde",
   "metadata": {},
   "source": [
    "# hoặc"
   ]
  },
  {
   "cell_type": "code",
   "execution_count": 9,
   "id": "5fb48051",
   "metadata": {},
   "outputs": [
    {
     "name": "stdout",
     "output_type": "stream",
     "text": [
      "0  bắt đầu vòng lặp for la :   \n",
      "1  bắt đầu vòng lặp for la :  l\n",
      "2  bắt đầu vòng lặp for la :  y\n",
      "3  bắt đầu vòng lặp for la :   \n",
      "4  bắt đầu vòng lặp for la :  h\n",
      "5  bắt đầu vòng lặp for la :  u\n",
      "6  bắt đầu vòng lặp for la :  y\n",
      "7  bắt đầu vòng lặp for la :  n\n",
      "8  bắt đầu vòng lặp for la :  h\n",
      "9  bắt đầu vòng lặp for la :   \n",
      "10  bắt đầu vòng lặp for la :  h\n",
      "11  bắt đầu vòng lặp for la :  u\n",
      "12  bắt đầu vòng lặp for la :  u\n",
      "13  bắt đầu vòng lặp for la :   \n",
      "14  bắt đầu vòng lặp for la :  t\n",
      "15  bắt đầu vòng lặp for la :  r\n",
      "16  bắt đầu vòng lặp for la :  i\n"
     ]
    }
   ],
   "source": [
    "s = \" ly huynh huu tri\"\n",
    "idx = 0 # vị trí bắt đầu bạn muốn sử lí chuỗi \n",
    "length = len(s) # chiều dài của chuỗi\n",
    "while idx < length : \n",
    "    print(idx , \" bắt đầu vòng lặp for la : \" , s[idx])\n",
    "    idx+=1 # di chuyển sang vị trí tiếp theo"
   ]
  },
  {
   "cell_type": "markdown",
   "id": "8007f4ab",
   "metadata": {},
   "source": [
    "# câu lệnh break và continue"
   ]
  },
  {
   "cell_type": "markdown",
   "id": "162301ff",
   "metadata": {},
   "source": [
    "# vd break"
   ]
  },
  {
   "cell_type": "code",
   "execution_count": 1,
   "id": "0999cfcc",
   "metadata": {},
   "outputs": [
    {
     "name": "stdout",
     "output_type": "stream",
     "text": [
      "[2, 4, 6, 8, 10, 12, 14, 16, 18, 20, 22, 24, 26, 28, 30, 32, 34, 36, 38, 40, 42, 44, 46, 48, 50, 52, 54, 56, 58, 60, 62, 64, 66, 68, 70, 72, 74, 76, 78, 80, 82, 84, 86, 88, 90]\n",
      "90\n"
     ]
    }
   ],
   "source": [
    "five_number = [] # tạo 1 tuple\n",
    "k_ind = 1 \n",
    "while True :\n",
    "    if(k_ind % 2 == 0 ) :\n",
    "        five_number.append(k_ind);\n",
    "        if len(five_number) >= 45 :\n",
    "            break \n",
    "    k_ind += 1\n",
    "print(five_number)\n",
    "print(k_ind)"
   ]
  },
  {
   "cell_type": "markdown",
   "id": "767e81e8",
   "metadata": {},
   "source": [
    "# vd continue"
   ]
  },
  {
   "cell_type": "code",
   "execution_count": 23,
   "id": "2d0d4320",
   "metadata": {},
   "outputs": [
    {
     "name": "stdout",
     "output_type": "stream",
     "text": [
      "1  là số lẻ \n",
      "2  là số chẵn \n",
      "3  là số lẻ \n",
      "4  là số chẵn \n",
      "5  là số lẻ \n",
      "6  là số chẵn \n",
      "7  là số lẻ \n",
      "8  là số chẵn \n",
      "9  là số lẻ \n",
      "10  là số chẵn \n",
      "10\n"
     ]
    }
   ],
   "source": [
    "k = 0\n",
    "while k < 10 :\n",
    "    k+=1;\n",
    "    if k % 2 == 0 :\n",
    "        print(k , \" là số chẵn \")\n",
    "        continue # nếu thỏa mãn if thì vào lệnh continue đê kết thúc vòng lạp r thực hiện vòng lặp tiếp theo \n",
    "        # còn nếu ko thỏa mãn thì và lệnh print ở dưới và bắt đầu , lặp lại while\n",
    "    print (k , \" là số lẻ \")\n",
    "print(k)\n",
    "            "
   ]
  },
  {
   "cell_type": "markdown",
   "id": "7c78b266",
   "metadata": {},
   "source": [
    "# lưu ý break và continue \n",
    "# +=> break  thì sẽ kết thúc luôn vòng lặp nếu thõa mãn điều kiện nào đó (vòng lặp gần nó nhất và tùy thuộc vào vị trí mà break đứng mà kết thúc)\n",
    "# +=> continue nếu ko thỏa mãn thì thoát ra vòng lặp để thực hiện vòng lặp tiếp theo , hoặc thực hiện lệnh bên dưới continue đến khi thỏa mãn điều kiện lặp thì kết thúc còn nếu thỏa mãn thì ko thực hiện câu lệnh phía dưới và lặp lại đến khi thõa mãn điều kiện while "
   ]
  },
  {
   "cell_type": "markdown",
   "id": "881167bb",
   "metadata": {},
   "source": [
    "# vd vs else :"
   ]
  },
  {
   "cell_type": "code",
   "execution_count": 14,
   "id": "39f26a58",
   "metadata": {},
   "outputs": [
    {
     "name": "stdout",
     "output_type": "stream",
     "text": [
      " giá trị của k là  :  0\n",
      " giá trị của k là  :  1\n",
      " giá trị của k là  :  2\n",
      " giá trị của k là  :  3\n",
      " giá trị của k là  :  4\n",
      " K hết giá trị nhỏ hơn 5 \n"
     ]
    }
   ],
   "source": [
    "k = 0 \n",
    "while k < 5 :\n",
    "    print(\" giá trị của k là  : \" , k)\n",
    "    k += 1 \n",
    "#     if k == 4 :\n",
    "#         break \n",
    "else : \n",
    "    print(\" K hết giá trị nhỏ hơn 5 \")"
   ]
  },
  {
   "cell_type": "markdown",
   "id": "9c1626c3",
   "metadata": {},
   "source": [
    "# vd in ra 5 số chẵn đầu tiên "
   ]
  },
  {
   "cell_type": "code",
   "execution_count": 4,
   "id": "9d053383",
   "metadata": {},
   "outputs": [
    {
     "name": "stdout",
     "output_type": "stream",
     "text": [
      "2\n",
      "4\n",
      "6\n",
      "8\n",
      "10\n"
     ]
    }
   ],
   "source": [
    "k1 = []\n",
    "idx_k1 = 0 \n",
    "while len(k1) < 5 :\n",
    "    idx_k1 += 1\n",
    "    if idx_k1 % 2 == 0:\n",
    "        k1.append(idx_k1)\n",
    "        print (idx_k1) "
   ]
  },
  {
   "cell_type": "markdown",
   "id": "9ce61f25",
   "metadata": {},
   "source": [
    "# vd thực tế vs while\n",
    "# vd 1 "
   ]
  },
  {
   "cell_type": "code",
   "execution_count": 5,
   "id": "4a64bcd6",
   "metadata": {},
   "outputs": [],
   "source": [
    "with open('t.txt') as f:\n",
    "    # lấy nội dung của file dưới dạng một list\n",
    "    data = f.readlines()\n",
    "\n",
    "idx = 0 # mốc bắt đầu\n",
    "length = len(data) # mốc kết thúc\n",
    "new_content = '' # nội dung mới sẽ ghi vào file mới\n",
    "\n",
    "while idx < length:\n",
    "    # tách một dòng thành một list\n",
    "    line_list = data[idx].split()\n",
    "    idline = 0\n",
    "    length_line = len(line_list)\n",
    "    while idline < length_line:\n",
    "        if line_list[idline] == 'tri':\n",
    "            # thay thế chữ trước trí là hữu\n",
    "            line_list[idline - 1] = 'huu'\n",
    "        idline += 1\n",
    "    # nối lại thành một dòng chuỗi\n",
    "    new_content += ' '.join(line_list) + '\\n'\n",
    "    idx += 1\n",
    "\n",
    "with open('tri.txt', 'w') as new_f:\n",
    "    # ghi nội dung mới vào file tri.txt\n",
    "    new_f.write(new_content)"
   ]
  },
  {
   "cell_type": "markdown",
   "id": "78243dfe",
   "metadata": {},
   "source": [
    "# vd 2 "
   ]
  },
  {
   "cell_type": "code",
   "execution_count": 10,
   "id": "51dced98",
   "metadata": {},
   "outputs": [
    {
     "name": "stdout",
     "output_type": "stream",
     "text": [
      "[0, 14, 11, 34, 35, 56, 11, 11, 65, 90, 11, 756]\n"
     ]
    }
   ],
   "source": [
    "lst = [56, 14, 11, 756, 34, 90, 11, 11, 65, 0, 11, 35]\n",
    "\n",
    "idx = 0\n",
    "maidx = len(lst) - 1\n",
    "\n",
    "majdx = len(lst)\n",
    " \n",
    "while idx < maidx:\n",
    "    if lst[idx] == 11:\n",
    "        idx += 1\n",
    "        continue\n",
    "    jdx = idx + 1\n",
    "    while jdx < majdx:\n",
    "        if lst[jdx] == 11:\n",
    "            jdx += 1\n",
    "            continue\n",
    "        if lst[idx] > lst[jdx]:\n",
    "            lst[idx], lst[jdx] = lst[jdx], lst[idx]\n",
    "        jdx += 1\n",
    "    idx += 1\n",
    "print(lst)"
   ]
  },
  {
   "cell_type": "code",
   "execution_count": null,
   "id": "32497f54",
   "metadata": {},
   "outputs": [],
   "source": []
  }
 ],
 "metadata": {
  "kernelspec": {
   "display_name": "Python 3 (ipykernel)",
   "language": "python",
   "name": "python3"
  },
  "language_info": {
   "codemirror_mode": {
    "name": "ipython",
    "version": 3
   },
   "file_extension": ".py",
   "mimetype": "text/x-python",
   "name": "python",
   "nbconvert_exporter": "python",
   "pygments_lexer": "ipython3",
   "version": "3.9.7"
  }
 },
 "nbformat": 4,
 "nbformat_minor": 5
}
