{
 "cells": [
  {
   "cell_type": "markdown",
   "id": "efbacc74",
   "metadata": {},
   "source": [
    "# HÀM LAMBDA"
   ]
  },
  {
   "cell_type": "code",
   "execution_count": 4,
   "id": "aad5515f",
   "metadata": {},
   "outputs": [
    {
     "name": "stdout",
     "output_type": "stream",
     "text": [
      "2.25\n"
     ]
    }
   ],
   "source": [
    "# vd hàm bình thường\n",
    "def tinh(a,b,c):\n",
    "    return (a+b+c)/4\n",
    "print(tinh(2,3,4))"
   ]
  },
  {
   "cell_type": "code",
   "execution_count": 10,
   "id": "0ec289c0",
   "metadata": {},
   "outputs": [
    {
     "name": "stdout",
     "output_type": "stream",
     "text": [
      "2.25\n"
     ]
    }
   ],
   "source": [
    "# vd khi chúng ta sd lambda\n",
    "tinh1 = lambda c,d,e : (c+d+e)/4\n",
    "print(tinh1(2,3,4))"
   ]
  },
  {
   "cell_type": "code",
   "execution_count": 15,
   "id": "cfd55a3f",
   "metadata": {},
   "outputs": [
    {
     "name": "stdout",
     "output_type": "stream",
     "text": [
      "Trí is best coder\n"
     ]
    }
   ],
   "source": [
    "# vd\n",
    "def huutrii():\n",
    "    man = lambda x: x + \" is best coder\"\n",
    "    return man\n",
    "dd = huutrii()\n",
    "print(dd(\"Trí\")) # giá trị chuỗi được đưa vào cho biến X"
   ]
  },
  {
   "cell_type": "code",
   "execution_count": 27,
   "id": "09d517d1",
   "metadata": {},
   "outputs": [
    {
     "name": "stdout",
     "output_type": "stream",
     "text": [
      "4\n",
      "8\n",
      "16\n",
      "32\n"
     ]
    }
   ],
   "source": [
    "trr_lambda = [ lambda x:x**2 , lambda x:x**3 ,lambda x:x**4 , lambda x:x**5 ]\n",
    "for value in trr_lambda:\n",
    "    print(value(2))"
   ]
  },
  {
   "cell_type": "code",
   "execution_count": 29,
   "id": "da444453",
   "metadata": {},
   "outputs": [
    {
     "name": "stdout",
     "output_type": "stream",
     "text": [
      "2\n"
     ]
    }
   ],
   "source": [
    "#vd\n",
    "find = lambda x,y:x if x>y else y # x nếu x > y , ngc lại là y \n",
    "print(find(1,2))"
   ]
  },
  {
   "cell_type": "code",
   "execution_count": 45,
   "id": "85775d82",
   "metadata": {},
   "outputs": [
    {
     "name": "stdout",
     "output_type": "stream",
     "text": [
      "9 chia het cho 3 \n",
      "None\n"
     ]
    }
   ],
   "source": [
    "#vd\n",
    "tim = lambda c : (print (c , \"chia het cho 3 \") if c %3 == 0 else print(c ,\"ko chia het cho 3\") ) \n",
    "print(tim(9))"
   ]
  },
  {
   "cell_type": "markdown",
   "id": "6c2f5cc6",
   "metadata": {},
   "source": [
    "# LAMBDA CHỒNG LAMBDA"
   ]
  },
  {
   "cell_type": "code",
   "execution_count": 49,
   "id": "fc804bea",
   "metadata": {},
   "outputs": [
    {
     "name": "stdout",
     "output_type": "stream",
     "text": [
      "tri coder\n"
     ]
    }
   ],
   "source": [
    "def hoctap(first):\n",
    "    return lambda second : first + second\n",
    "kk = hoctap(\"tri\")\n",
    "print(kk(\" coder\"))"
   ]
  },
  {
   "cell_type": "code",
   "execution_count": null,
   "id": "2916a924",
   "metadata": {},
   "outputs": [],
   "source": []
  }
 ],
 "metadata": {
  "kernelspec": {
   "display_name": "Python 3 (ipykernel)",
   "language": "python",
   "name": "python3"
  },
  "language_info": {
   "codemirror_mode": {
    "name": "ipython",
    "version": 3
   },
   "file_extension": ".py",
   "mimetype": "text/x-python",
   "name": "python",
   "nbconvert_exporter": "python",
   "pygments_lexer": "ipython3",
   "version": "3.9.7"
  }
 },
 "nbformat": 4,
 "nbformat_minor": 5
}
