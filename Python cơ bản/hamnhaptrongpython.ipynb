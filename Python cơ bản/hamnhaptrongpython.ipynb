{
 "cells": [
  {
   "cell_type": "markdown",
   "id": "0826fa7b",
   "metadata": {},
   "source": [
    "# hàm nhập trong python"
   ]
  },
  {
   "cell_type": "markdown",
   "id": "5ddfe425",
   "metadata": {},
   "source": [
    "# hàm input\n",
    "# cú pháp : input(prompt-none,/)"
   ]
  },
  {
   "cell_type": "code",
   "execution_count": 1,
   "id": "56fdfc8c",
   "metadata": {},
   "outputs": [
    {
     "name": "stdout",
     "output_type": "stream",
     "text": [
      "stringttt\n"
     ]
    },
    {
     "data": {
      "text/plain": [
       "'ttt'"
      ]
     },
     "execution_count": 1,
     "metadata": {},
     "output_type": "execute_result"
    }
   ],
   "source": [
    "input('string')"
   ]
  },
  {
   "cell_type": "code",
   "execution_count": 5,
   "id": "30bbdf82",
   "metadata": {},
   "outputs": [
    {
     "name": "stdout",
     "output_type": "stream",
     "text": [
      "string2323\n"
     ]
    },
    {
     "data": {
      "text/plain": [
       "'2323'"
      ]
     },
     "execution_count": 5,
     "metadata": {},
     "output_type": "execute_result"
    }
   ],
   "source": [
    " input(prompt = \"string\")"
   ]
  },
  {
   "cell_type": "code",
   "execution_count": 6,
   "id": "5e590dbc",
   "metadata": {},
   "outputs": [],
   "source": [
    "# giúp chúng t nhập dữ liệu lên , và trả về 1 chuỗi "
   ]
  },
  {
   "cell_type": "code",
   "execution_count": null,
   "id": "e5bfe473",
   "metadata": {},
   "outputs": [],
   "source": [
    "# vd"
   ]
  },
  {
   "cell_type": "code",
   "execution_count": 9,
   "id": "a394f5de",
   "metadata": {},
   "outputs": [
    {
     "name": "stdout",
     "output_type": "stream",
     "text": [
      "huutri\n",
      "first value is =>  huutri\n",
      "please enter one more value : how\\\n",
      "the second value is =>  how\\\n"
     ]
    }
   ],
   "source": [
    "value = input()\n",
    "print('first value is => ' , value)\n",
    "next_value = input(\"please enter one more value : \" )\n",
    "print (\"the second value is => \" , next_value)"
   ]
  },
  {
   "cell_type": "markdown",
   "id": "31c49a49",
   "metadata": {},
   "source": [
    "# một số vd khác "
   ]
  },
  {
   "cell_type": "markdown",
   "id": "cefb53da",
   "metadata": {},
   "source": [
    "# vd1"
   ]
  },
  {
   "cell_type": "code",
   "execution_count": 3,
   "id": "549dd184",
   "metadata": {},
   "outputs": [
    {
     "name": "stdout",
     "output_type": "stream",
     "text": [
      "enter a float: 5\n",
      "type of int_num  <class 'int'>\n"
     ]
    }
   ],
   "source": [
    "int_num = int(input(\"enter a float: \"))\n",
    "print(\"type of int_num \" , type (int_num))"
   ]
  },
  {
   "cell_type": "code",
   "execution_count": null,
   "id": "81774d7e",
   "metadata": {},
   "outputs": [],
   "source": [
    "# => kiểm tra kiểu dữ liệu"
   ]
  },
  {
   "cell_type": "code",
   "execution_count": 2,
   "id": "f9e43628",
   "metadata": {},
   "outputs": [
    {
     "name": "stdout",
     "output_type": "stream",
     "text": [
      "type of int_num  <class 'str'>\n"
     ]
    }
   ],
   "source": [
    "# print(\"type of int_num \" , type (int_num))"
   ]
  },
  {
   "cell_type": "markdown",
   "id": "f4a40ab2",
   "metadata": {},
   "source": [
    "=>> bất kì kiểu dữa liệu nào đưa và cx là kiểu string"
   ]
  },
  {
   "cell_type": "markdown",
   "id": "efc3e453",
   "metadata": {},
   "source": [
    "=> khi bạn ko nhập gì mà nhấn enter thì chuỗi bạn nhận đc là chuỗi rỗng"
   ]
  }
 ],
 "metadata": {
  "kernelspec": {
   "display_name": "Python 3 (ipykernel)",
   "language": "python",
   "name": "python3"
  },
  "language_info": {
   "codemirror_mode": {
    "name": "ipython",
    "version": 3
   },
   "file_extension": ".py",
   "mimetype": "text/x-python",
   "name": "python",
   "nbconvert_exporter": "python",
   "pygments_lexer": "ipython3",
   "version": "3.9.7"
  }
 },
 "nbformat": 4,
 "nbformat_minor": 5
}
